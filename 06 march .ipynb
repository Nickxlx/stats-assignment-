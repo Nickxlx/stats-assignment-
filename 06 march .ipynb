{
 "cells": [
  {
   "cell_type": "markdown",
   "id": "320a6bd5-b5d4-4df0-878f-f65129bff1aa",
   "metadata": {},
   "source": [
    "Q1. What is Statistics?\n",
    "\n",
    "Answer--> Statixtics is a science of collecting , organizing and analysing the data to get use full imformation from it "
   ]
  },
  {
   "cell_type": "code",
   "execution_count": null,
   "id": "81e1be34-89a8-4e27-806a-0616e072931a",
   "metadata": {},
   "outputs": [],
   "source": []
  },
  {
   "cell_type": "markdown",
   "id": "26da4c2d-5355-4745-af41-116a88aa366f",
   "metadata": {},
   "source": [
    "Q2. Define the different types of statistics and give an example of when each type might be used.\n",
    "\n",
    "Answer--> There are two types of statistics :\n",
    "\n",
    "1 discriptive statistics : Descriptive statistics refers to the methods used to summarize and describe a set of data. It includes techniques for summarizing central tendency, dispersion, and shape of a data distribution. \n",
    "\n",
    "Examples of descriptive statistics include mean, median, mode, variance, standard deviation, range, and quartiles.\n",
    "\n",
    "2 Inferential Statistics:\n",
    "Inferential statistics refers to the methods used to make conclusions about a population based on a sample of data. It involves using probability theory to estimate the likelihood that the findings in the sample are representative of the population. \n",
    "\n",
    "Examples of inferential statistics include hypothesis testing, confidence intervals, and regression analysis."
   ]
  },
  {
   "cell_type": "code",
   "execution_count": null,
   "id": "e3c6e1ef-3cfc-4b53-8963-d8bb8e63c135",
   "metadata": {},
   "outputs": [],
   "source": []
  },
  {
   "cell_type": "markdown",
   "id": "e559ee34-98b2-492f-88dd-a78dfa552804",
   "metadata": {},
   "source": [
    "Q3. What are the different types of data and how do they differ from each other? Provide an example of\n",
    "each type of data.\n",
    "\n",
    "Answer--> Quantitative data :Quantitative data refers to numerical data that is used to measure or quantify a phenomenon or variable. Quantitative data is often obtained through structured surveys, experiments, and statistical analyses. \n",
    "\n",
    "Examples of quantitative data include numerical measurements such as height, weight, temperature, time, and income.\n",
    "\n",
    "Qualitative data refers to non-numerical data that is descriptive in nature and is used to capture subjective or categorical information. Qualitative data is often obtained through observations, interviews, focus groups, and open-ended survey questions. \n",
    "\n",
    "Examples of qualitative data include opinions, attitudes, beliefs, values, and behaviors."
   ]
  },
  {
   "cell_type": "code",
   "execution_count": null,
   "id": "247ab7b4-8a5e-42c6-ac5a-46b73197de10",
   "metadata": {},
   "outputs": [],
   "source": []
  },
  {
   "cell_type": "markdown",
   "id": "d91cbdf6-86e5-4448-9dbf-848a1864ff58",
   "metadata": {},
   "source": [
    "Q4. Categorise the following datasets with respect to quantitative and qualitative data types:\n",
    "\n",
    "(i) Grading in exam: A+, A, B+, B, C+, C, D, E   =  qualitative data \n",
    "\n",
    "(ii) Colour of mangoes: yellow, green, orange, red   =  qualitative data \n",
    "\n",
    "(iii) Height data of a class: [178.9, 179, 179.5, 176, 177.2, 178.3, 175.8,...] = qualitative\n",
    "\n",
    "(iv) Number of mangoes exported by a farm: [500, 600, 478, 672, ...] = qualitative"
   ]
  },
  {
   "cell_type": "code",
   "execution_count": null,
   "id": "c21f134a-5382-4046-96a2-c358832817d2",
   "metadata": {},
   "outputs": [],
   "source": []
  },
  {
   "cell_type": "markdown",
   "id": "db346d93-e2d6-4d85-a93e-8451e6893737",
   "metadata": {},
   "source": [
    "Q5. Explain the concept of levels of measurement and give an example of a variable for each level.\n",
    "\n",
    "Answer--> Levels of measurement refer to the ways in which data is measured and categorized, based on the type of scale used to represent the data. There are four main levels of measurement:\n",
    "\n",
    "1 Nominal Data:\n",
    "Nominal data consists of categorical data where the categories are not ordered. \n",
    "\n",
    "Examples include gender (male, female), race (White, Black, Asian), and blood type (A, B, AB, O).\n",
    "\n",
    "2 Ordinal Data:\n",
    "Ordinal data consists of categorical data where the categories have an inherent order or hierarchy. \n",
    "\n",
    "Examples include education level (elementary, middle, high school, college), level of agreement (strongly disagree, disagree, neutral, agree, strongly agree), and rank order (1st, 2nd, 3rd place).\n",
    "\n",
    "3 Interval Data:\n",
    "Interval data consists of numerical data where the intervals between the values are equal, but there is no true zero point and finding ratio is meaning less.\n",
    "\n",
    "Examples include temperature measured in degrees Celsius or Fahrenheit, time, and IQ scores.\n",
    "\n",
    "4 Ratio Data:\n",
    "Ratio data consists of numerical data where there is a true zero point , diff can be measure and the ratios between the values are meaningful.\n",
    "\n",
    "Examples include height, weight, distance, and income"
   ]
  },
  {
   "cell_type": "code",
   "execution_count": null,
   "id": "04fc0cd0-fd26-44b8-b844-975f0455098b",
   "metadata": {},
   "outputs": [],
   "source": []
  },
  {
   "cell_type": "markdown",
   "id": "4f290dbc-ada0-4f53-a1a7-55b049e0eaaf",
   "metadata": {},
   "source": [
    "Q6. Why is it important to understand the level of measurement when analyzing data? Provide an example to illustrate your answer.\n",
    "\n",
    "Answer--> Understanding the level of measurement is crucial when analyzing data because it determines the types of statistical analyses and operations that can be performed on the data. Different levels of measurement require different statistical techniques, and using the wrong technique can lead to incorrect conclusions and invalid results.\n",
    "\n",
    "For example if we have an ordinal variable like \"education level\" and we want to compare the average education level between two groups, we can use the median, mode, or rank-sum test. However, we cannot use arithmetic operations like addition, subtraction, multiplication, or division on ordinal data.\n",
    "\n",
    "On the other hand, if we have interval or ratio data like \"temperature\" or \"income,\" we can use all statistical operations, including arithmetic operations, descriptive statistics, and inferential statistics."
   ]
  },
  {
   "cell_type": "code",
   "execution_count": null,
   "id": "ac3dd1ea-5386-46c7-92cb-75f8e73e1ecc",
   "metadata": {},
   "outputs": [],
   "source": [
    "\n"
   ]
  },
  {
   "cell_type": "markdown",
   "id": "92075867-9009-48d9-af48-72612c2418e2",
   "metadata": {},
   "source": [
    "Q7. How nominal data type is different from ordinal data type.\n",
    "\n",
    "Answer--> Nominal data and ordinal data are both types of categorical data, but they differ in terms of the level of measurement.\n",
    "\n",
    "The key difference between nominal and ordinal data is that ordinal data have an inherent order or ranking, while nominal data do not. For example, gender is a nominal variable, while educational level is an ordinal variable. Gender can only be described in terms of frequency, while educational level can be described in terms of frequency, as well as its central tendency using the median or mode."
   ]
  },
  {
   "cell_type": "code",
   "execution_count": null,
   "id": "7ea7599e-e6be-42a0-bcad-e41ba162c0f2",
   "metadata": {},
   "outputs": [],
   "source": []
  },
  {
   "cell_type": "markdown",
   "id": "8ce776af-dc9f-4d80-9343-80f83e78f10d",
   "metadata": {},
   "source": [
    "Q8. Which type of plot can be used to display data in terms of range?\n",
    "\n",
    "Answer-> The type of plot that can be used to display data in terms of range is a \"box plot\" or \"box-and-whisker plot.\""
   ]
  },
  {
   "cell_type": "code",
   "execution_count": null,
   "id": "fea4a44b-6a0c-4272-a0ec-8fe89d79a350",
   "metadata": {},
   "outputs": [],
   "source": []
  },
  {
   "cell_type": "markdown",
   "id": "bfcba1a6-a583-481f-80e8-8374a6ff3b60",
   "metadata": {},
   "source": [
    "Q9. Describe the difference between descriptive and inferential statistics. Give an example of each type of statistics and explain how they are used.\n",
    "\n",
    "Answer--> There are two types of statistics :\n",
    "\n",
    "1 discriptive statistics : Descriptive statistics refers to the methods used to summarize and describe a set of data. It includes techniques for summarizing central tendency, dispersion, and shape of a data distribution. \n",
    "\n",
    "Examples of descriptive statistics include mean, median, mode, variance, standard deviation, range, and quartiles.\n",
    "\n",
    "2 Inferential Statistics:\n",
    "Inferential statistics refers to the methods used to make conclusions about a population based on a sample of data. It involves using probability theory to estimate the likelihood that the findings in the sample are representative of the population. \n",
    "\n",
    "Examples of inferential statistics include hypothesis testing, confidence intervals, and regression analysis."
   ]
  },
  {
   "cell_type": "code",
   "execution_count": null,
   "id": "67445d3c-e6f3-424c-b140-945e4f4e2eb8",
   "metadata": {},
   "outputs": [],
   "source": []
  },
  {
   "cell_type": "markdown",
   "id": "3814af22-96eb-43ab-9c6d-aba1570eecf0",
   "metadata": {},
   "source": [
    "Q10. What are some common measures of central tendency and variability used in statistics? Explain how each measure can be used to describe a dataset.\n",
    "\n",
    "Answer--> In statistics, common measures of central tendency and variability are used to summarize and describe datasets. Here are some of the commonly used measures and their descriptions:\n",
    "\n",
    "Measures of Central Tendency:\n",
    "1. Mean: The mean is the average of all the data points in a dataset. It is calculated by summing all the values and dividing by the total number of values.\n",
    "\n",
    "2. Median: The median is the middle value in a dataset when the values are arranged in ascending or descending order. It divides the dataset into two equal halves. The median is less affected by extreme values or outliers and provides a measure of the central value in the dataset.\n",
    "\n",
    "3. Mode: The mode is the value that appears most frequently in a dataset. It represents the most common or repeated value in the dataset. The mode is particularly useful for categorical or discrete datasets.\n",
    "\n",
    "Measures of Variability:\n",
    "1. Variance: Variance measures the spread or dispersion of the data points around the mean. It calculates the average of the squared differences between each data point and the mean. A higher variance indicates greater variability in the dataset.\n",
    "\n",
    "2. Standard Deviation: The standard deviation is the square root of the variance. It provides a measure of the average distance between each data point and the mean. The standard deviation is widely used as a measure of the spread of the data.\n",
    "\n",
    "3. Range: The range is the difference between the maximum and minimum values in a dataset. It provides a simple measure of the spread of the data. However, it is sensitive to outliers and may not capture the full variability of the dataset.\n"
   ]
  },
  {
   "cell_type": "code",
   "execution_count": null,
   "id": "e7937844-752e-4f1d-88e9-5957f79b35df",
   "metadata": {},
   "outputs": [],
   "source": []
  }
 ],
 "metadata": {
  "kernelspec": {
   "display_name": "Python 3 (ipykernel)",
   "language": "python",
   "name": "python3"
  },
  "language_info": {
   "codemirror_mode": {
    "name": "ipython",
    "version": 3
   },
   "file_extension": ".py",
   "mimetype": "text/x-python",
   "name": "python",
   "nbconvert_exporter": "python",
   "pygments_lexer": "ipython3",
   "version": "3.10.8"
  }
 },
 "nbformat": 4,
 "nbformat_minor": 5
}
