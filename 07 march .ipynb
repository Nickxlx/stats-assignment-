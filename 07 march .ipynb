{
 "cells": [
  {
   "cell_type": "markdown",
   "id": "0f6da0c7-3409-462a-8353-127fc5e04f8b",
   "metadata": {},
   "source": [
    "Q1. What are the three measures of central tendency?\n",
    "\n",
    "Answer--> the three measures of central tendency are :\n",
    "   \n",
    "   1 mean.\n",
    "   \n",
    "   2 median. \n",
    "   \n",
    "   3 mode. "
   ]
  },
  {
   "cell_type": "code",
   "execution_count": null,
   "id": "df81fe9d-733a-49b4-a1cc-9a721a20ccb1",
   "metadata": {},
   "outputs": [],
   "source": []
  },
  {
   "cell_type": "code",
   "execution_count": null,
   "id": "a4d6b631-864f-4558-9613-299c18229256",
   "metadata": {},
   "outputs": [],
   "source": []
  },
  {
   "cell_type": "markdown",
   "id": "d3f748c0-e1b7-4a86-ae0d-2147be725158",
   "metadata": {},
   "source": [
    "Q2. What is the difference between the mean, median, and mode? How are they used to measure the central tendency of a dataset?\n",
    "\n",
    "Answer--> The mean, median, and mode are measures of central tendency used to describe the typical or central value of a dataset. Here's an explanation of each measure and the differences between them:\n",
    "\n",
    "Mean:\n",
    "The mean is the average of all the values in a dataset. It is calculated by summing up all the values and dividing by the total number of values. The mean is sensitive to outliers because it takes into account every data point in the calculation. It is commonly used when the data is normally distributed or symmetrically distributed around a central value.\n",
    "\n",
    "Median:\n",
    "The median is the middle value in a dataset when the values are arranged in ascending or descending order. If there is an odd number of data points, the median is the middle value. If there is an even number of data points, the median is the average of the two middle values. The median is less affected by outliers and extreme values compared to the mean. It is often used when the data contains outliers or when the distribution is skewed.\n",
    "\n",
    "Mode:\n",
    "The mode is the value or values that appear most frequently in a dataset. In other words, it is the value(s) with the highest frequency. Unlike the mean and median, the mode can be applied to both numerical and categorical data. The mode is useful for identifying the most common or dominant value in a dataset.\n"
   ]
  },
  {
   "cell_type": "code",
   "execution_count": null,
   "id": "b2a304da-c89f-41e3-9b33-15172a462627",
   "metadata": {},
   "outputs": [],
   "source": []
  },
  {
   "cell_type": "code",
   "execution_count": null,
   "id": "0ae6fc1c-de4a-4af6-8ada-eb42b7c9c784",
   "metadata": {},
   "outputs": [],
   "source": []
  },
  {
   "cell_type": "markdown",
   "id": "c0d75938-56f6-46e0-96da-f49390fa817a",
   "metadata": {},
   "source": [
    "Q3. Measure the three measures of central tendency for the given height data:\n",
    "[178,177,176,177,178.2,178,175,179,180,175,178.9,176.2,177,172.5,178,176.5]"
   ]
  },
  {
   "cell_type": "code",
   "execution_count": 4,
   "id": "2b49a9b4-8a3c-40d6-9523-7910d6fd9a7e",
   "metadata": {},
   "outputs": [],
   "source": [
    "import numpy as np \n",
    "from scipy import stats \n",
    "data = [178,177,176,177,178.2,178,175,179,180,175,178.9,176.2,177,172.5,178,176.5]"
   ]
  },
  {
   "cell_type": "code",
   "execution_count": 2,
   "id": "af637edc-0190-462b-bca0-1e5c1d79823a",
   "metadata": {},
   "outputs": [
    {
     "data": {
      "text/plain": [
       "177.01875"
      ]
     },
     "execution_count": 2,
     "metadata": {},
     "output_type": "execute_result"
    }
   ],
   "source": [
    "np.mean(data)"
   ]
  },
  {
   "cell_type": "code",
   "execution_count": 3,
   "id": "38fe7d76-0035-4f0a-8e20-159c414f55b1",
   "metadata": {},
   "outputs": [
    {
     "data": {
      "text/plain": [
       "177.0"
      ]
     },
     "execution_count": 3,
     "metadata": {},
     "output_type": "execute_result"
    }
   ],
   "source": [
    "np.median(data)"
   ]
  },
  {
   "cell_type": "code",
   "execution_count": 5,
   "id": "78cad537-39ba-4009-bcaa-b40635c2292d",
   "metadata": {},
   "outputs": [
    {
     "name": "stderr",
     "output_type": "stream",
     "text": [
      "/tmp/ipykernel_2646/3267261142.py:1: FutureWarning: Unlike other reduction functions (e.g. `skew`, `kurtosis`), the default behavior of `mode` typically preserves the axis it acts along. In SciPy 1.11.0, this behavior will change: the default value of `keepdims` will become False, the `axis` over which the statistic is taken will be eliminated, and the value None will no longer be accepted. Set `keepdims` to True or False to avoid this warning.\n",
      "  stats.mode(data)\n"
     ]
    },
    {
     "data": {
      "text/plain": [
       "ModeResult(mode=array([177.]), count=array([3]))"
      ]
     },
     "execution_count": 5,
     "metadata": {},
     "output_type": "execute_result"
    }
   ],
   "source": [
    "stats.mode(data)"
   ]
  },
  {
   "cell_type": "code",
   "execution_count": null,
   "id": "86540e27-6a34-4fa0-b3b5-525b0eeb5d11",
   "metadata": {},
   "outputs": [],
   "source": []
  },
  {
   "cell_type": "code",
   "execution_count": null,
   "id": "2545a969-7e40-4c3a-8c06-62db1f685286",
   "metadata": {},
   "outputs": [],
   "source": []
  },
  {
   "cell_type": "markdown",
   "id": "550e4f86-9ece-42c4-bbf0-f7121a8ccf57",
   "metadata": {},
   "source": [
    "Q4. Find the standard deviation for the given data:\n",
    "[178,177,176,177,178.2,178,175,179,180,175,178.9,176.2,177,172.5,178,176.5]"
   ]
  },
  {
   "cell_type": "code",
   "execution_count": 6,
   "id": "58093af9-458d-444d-be7e-d8bbfcac9572",
   "metadata": {},
   "outputs": [
    {
     "data": {
      "text/plain": [
       "1.7885814036548633"
      ]
     },
     "execution_count": 6,
     "metadata": {},
     "output_type": "execute_result"
    }
   ],
   "source": [
    "np.std(data)"
   ]
  },
  {
   "cell_type": "code",
   "execution_count": null,
   "id": "6f4e8ae1-c3ac-46ce-9bd1-4cd46cc870c7",
   "metadata": {},
   "outputs": [],
   "source": []
  },
  {
   "cell_type": "code",
   "execution_count": null,
   "id": "28edd652-c791-4132-bfd0-002df5f906dc",
   "metadata": {},
   "outputs": [],
   "source": []
  },
  {
   "cell_type": "markdown",
   "id": "ed3a9bdb-928c-47e8-9fd1-03a867ede56c",
   "metadata": {},
   "source": [
    "Q5. How are measures of dispersion such as range, variance, and standard deviation used to describe the spread of a dataset? Provide an example.\n",
    "\n",
    "Answer--> Here's an explanation of each measure and how they are used :\n",
    "\n",
    "1. Range: The range is the simplest measure of dispersion and is calculated as the difference between the maximum and minimum values in the dataset. It provides an idea of the total spread of the data. However, it only considers two extreme values and may not capture the entire variability of the dataset.\n",
    "\n",
    "2. Variance: Variance is a more comprehensive measure of dispersion that takes into account the differences between each data point and the mean. It is calculated by averaging the squared differences between each data point and the mean. Variance gives us an understanding of how much the individual data points deviate from the mean on average. A higher variance indicates greater dispersion or variability in the dataset.\n",
    "\n",
    "3. Standard Deviation: The standard deviation is the square root of the variance. It measures the average amount of dispersion or variability of the data points from the mean. Standard deviation provides a more intuitive understanding of the spread because it is in the same unit as the data. A higher standard deviation indicates greater variability in the dataset.\n",
    "\n",
    "Example:\n",
    "data = [25, 28, 26, 23, 24, 22, 27]."
   ]
  },
  {
   "cell_type": "code",
   "execution_count": 11,
   "id": "20df06e0-855b-40a3-a8ba-608ce7283921",
   "metadata": {},
   "outputs": [
    {
     "data": {
      "text/plain": [
       "7.5"
      ]
     },
     "execution_count": 11,
     "metadata": {},
     "output_type": "execute_result"
    }
   ],
   "source": [
    "# range\n",
    "np.ptp(data)"
   ]
  },
  {
   "cell_type": "code",
   "execution_count": 9,
   "id": "2085f199-5dd5-42c5-b24f-a60784311d8b",
   "metadata": {},
   "outputs": [
    {
     "data": {
      "text/plain": [
       "3.199023437500001"
      ]
     },
     "execution_count": 9,
     "metadata": {},
     "output_type": "execute_result"
    }
   ],
   "source": [
    "# variance\n",
    "np.var(data)"
   ]
  },
  {
   "cell_type": "code",
   "execution_count": 10,
   "id": "c95ddf80-54b5-4f37-a1a9-c76584c37701",
   "metadata": {},
   "outputs": [
    {
     "data": {
      "text/plain": [
       "1.7885814036548633"
      ]
     },
     "execution_count": 10,
     "metadata": {},
     "output_type": "execute_result"
    }
   ],
   "source": [
    "# stander deviation\n",
    "np.std(data)"
   ]
  },
  {
   "cell_type": "code",
   "execution_count": null,
   "id": "e8f5329b-8065-47ca-8cb3-caaba65e89bd",
   "metadata": {},
   "outputs": [],
   "source": []
  },
  {
   "cell_type": "code",
   "execution_count": null,
   "id": "a7e91ec3-c3f1-41a4-8d6d-d7ce3ab80798",
   "metadata": {},
   "outputs": [],
   "source": []
  },
  {
   "cell_type": "markdown",
   "id": "80fcd6ab-a0fc-44a8-bb4a-4dad48403edd",
   "metadata": {},
   "source": [
    "Q6. What is a Venn diagram?\n",
    "\n",
    "Answer--> A Venn diagram is a visual representation of the relationships between different sets or groups of items. It consists of overlapping circles or other shapes, where each circle represents a set and the overlapping regions represent the intersections between the sets. Venn diagrams are commonly used to illustrate the similarities and differences between different groups or categories."
   ]
  },
  {
   "cell_type": "code",
   "execution_count": null,
   "id": "d27fd1a5-8479-4928-9e64-19ea2e132dd3",
   "metadata": {},
   "outputs": [],
   "source": []
  },
  {
   "cell_type": "code",
   "execution_count": null,
   "id": "eb3a6645-aded-4a7e-bd26-166f4ec4e073",
   "metadata": {},
   "outputs": [],
   "source": []
  },
  {
   "cell_type": "markdown",
   "id": "2cb093e5-642d-46c9-97ff-0d897acff431",
   "metadata": {},
   "source": [
    "Q7. For the two given sets A = (2,3,4,5,6,7) & B = (0,2,6,8,10). Find:\n",
    "    \n",
    "(i) A U B\n",
    "\n",
    "(ii) A ⋃ B"
   ]
  },
  {
   "cell_type": "code",
   "execution_count": 18,
   "id": "0af24a0b-d638-4008-9314-a848b70dfc19",
   "metadata": {},
   "outputs": [
    {
     "name": "stdout",
     "output_type": "stream",
     "text": [
      "Union of A and B: {0, 2, 3, 4, 5, 6, 7, 8, 10}\n",
      "Union of A and B: {2, 6}\n"
     ]
    }
   ],
   "source": [
    "A = {2,3,4,5,6,7} \n",
    "B = {0,2,6,8,10}\n",
    "\n",
    "union_set = A.union(B)\n",
    "\n",
    "intersection = A.intersection(B)\n",
    "\n",
    "print(\"Union of A and B:\", union_set)\n",
    "\n",
    "print(\"Union of A and B:\", intersection)"
   ]
  },
  {
   "cell_type": "code",
   "execution_count": null,
   "id": "df3fae8c-1cfe-417f-811b-8e8e6b3ae3ba",
   "metadata": {},
   "outputs": [],
   "source": []
  },
  {
   "cell_type": "code",
   "execution_count": null,
   "id": "9d487bf2-784f-4ebe-b49a-542687ae1350",
   "metadata": {},
   "outputs": [],
   "source": []
  },
  {
   "cell_type": "markdown",
   "id": "6128831f-cf23-4a7f-a0a1-d593e59d4676",
   "metadata": {},
   "source": [
    "Q8. What do you understand about skewness in data ?\n",
    "\n",
    "Answer--> Skewness is a statistical measure that describes the asymmetry or lack of symmetry in a probability distribution or dataset. It indicates the degree to which the data deviates from a symmetrical distribution."
   ]
  },
  {
   "cell_type": "code",
   "execution_count": null,
   "id": "24141dcf-7418-47c5-9d23-aa2bfd6463a9",
   "metadata": {},
   "outputs": [],
   "source": []
  },
  {
   "cell_type": "code",
   "execution_count": null,
   "id": "56c95656-a2b2-4ce8-ac95-e0a78dad62ad",
   "metadata": {},
   "outputs": [],
   "source": []
  },
  {
   "cell_type": "markdown",
   "id": "67843118-8faa-443d-9b33-ddb3969bb869",
   "metadata": {},
   "source": [
    "Q9. If a data is right skewed then what will be the position of median with respect to mean?\n",
    "\n",
    "Answer--> If a data is right-skewed, the position of the median with respect to the mean will typically be less than the mean."
   ]
  },
  {
   "cell_type": "code",
   "execution_count": null,
   "id": "73a00848-0dbe-49ea-99a4-76dab6ea970f",
   "metadata": {},
   "outputs": [],
   "source": []
  },
  {
   "cell_type": "code",
   "execution_count": null,
   "id": "2405b17e-c538-4cf1-a51f-182f94e8a005",
   "metadata": {},
   "outputs": [],
   "source": []
  },
  {
   "cell_type": "markdown",
   "id": "7f7fdd8b-e55d-4d86-a67c-efe364043e01",
   "metadata": {},
   "source": [
    "Q10. Explain the difference between covariance and correlation. How are these measures used in statistical analysis ?\n",
    "\n",
    "Answer--> Covariance and correlation are both measures used to quantify the relationship between two variables in statistical analysis, but they have distinct differences:\n",
    "\n",
    "Covariance:\n",
    "Covariance measures how two variables vary together. It calculates the extent to which changes in one variable correspond to changes in another variable. A positive covariance indicates that both variables tend to increase or decrease together, while a negative covariance indicates an inverse relationship, where one variable tends to increase as the other decreases.\n",
    "\n",
    "Correlation:\n",
    "Correlation measures the strength and direction of the linear relationship between two variables. It is a standardized measure that ranges from -1 to +1. A correlation of +1 indicates a perfect positive linear relationship, where both variables increase together, while a correlation of -1 indicates a perfect negative linear relationship, where one variable decreases as the other increases. A correlation of 0 indicates no linear relationship."
   ]
  },
  {
   "cell_type": "code",
   "execution_count": null,
   "id": "e6044aad-290e-4162-bbed-0046bd3a5d1f",
   "metadata": {},
   "outputs": [],
   "source": []
  },
  {
   "cell_type": "code",
   "execution_count": null,
   "id": "b33f4e9c-88f3-4d14-83df-a30f86630fea",
   "metadata": {},
   "outputs": [],
   "source": []
  },
  {
   "cell_type": "markdown",
   "id": "5ae24eaa-e735-4dfd-b84e-2a23aa06a8b6",
   "metadata": {},
   "source": [
    "Q11. What is the formula for calculating the sample mean? Provide an example calculation for a dataset.\n",
    "\n",
    "Answer--> \n",
    "The formula for calculating the sample mean is:\n",
    "\n",
    "Sample Mean = (Sum of all data points) / (Number of data points)\n"
   ]
  },
  {
   "cell_type": "code",
   "execution_count": null,
   "id": "ab8b4413-8b9b-449a-ac79-2232dd112080",
   "metadata": {},
   "outputs": [],
   "source": []
  },
  {
   "cell_type": "code",
   "execution_count": null,
   "id": "8d831c95-61e5-475f-a857-07f7574771e9",
   "metadata": {},
   "outputs": [],
   "source": []
  },
  {
   "cell_type": "markdown",
   "id": "fc151033-9715-4ccc-a659-12e63b71a18a",
   "metadata": {},
   "source": [
    "Q12. For a normal distribution data what is the relationship between its measure of central tendency ?\n",
    "\n",
    "Answer--> For a normal distribution, the measures of central tendency, namely the mean, median, and mode, are all equal and located at the center of the distribution.\n",
    "\n",
    "In a perfectly symmetric normal distribution, the mean, median, and mode will have the same value and will be located at the peak of the distribution. This is because a normal distribution is characterized by its symmetrical bell-shaped curve, where the mean, median, and mode coincide at the highest point of the curve."
   ]
  },
  {
   "cell_type": "code",
   "execution_count": null,
   "id": "b52f3e79-ea09-4910-80a8-3b5fa06948c1",
   "metadata": {},
   "outputs": [],
   "source": []
  },
  {
   "cell_type": "code",
   "execution_count": null,
   "id": "66382609-fb6a-4430-9c7f-61a86ce788eb",
   "metadata": {},
   "outputs": [],
   "source": []
  },
  {
   "cell_type": "markdown",
   "id": "642c613a-3cd9-4b59-b99d-9e90c7596057",
   "metadata": {},
   "source": [
    "Q13. How is covariance different from correlation?\n",
    "\n",
    "Answer--> Covariance:\n",
    "\n",
    "Covariance measures the direction and magnitude of the linear relationship between two variables.\n",
    "\n",
    "It indicates how changes in one variable are associated with changes in another variable.\n",
    "\n",
    "Covariance can take any value, positive or negative, depending on the direction of the relationship.\n",
    "\n",
    "However, the magnitude of covariance is not standardized, making it difficult to compare covariances across different datasets.\n",
    "\n",
    "Correlation:\n",
    "\n",
    "Correlation also measures the strength and direction of the linear relationship between two variables.However, correlation is a standardized measure that ranges from -1 to 1.\n",
    "\n",
    "A correlation of +1 indicates a perfect positive linear relationship, a correlation of -1 indicates a perfect negative linear relationship, and a correlation of 0 indicates no linear relationship.\n",
    "\n",
    "Correlation is unitless, making it easier to compare and interpret across different datasets.\n",
    "\n",
    "Correlation is more robust to the scale of the variables compared to covariance."
   ]
  },
  {
   "cell_type": "code",
   "execution_count": null,
   "id": "d833c392-9644-4281-9d5e-313c26cd42ce",
   "metadata": {},
   "outputs": [],
   "source": []
  },
  {
   "cell_type": "code",
   "execution_count": null,
   "id": "7e2c46f5-ecf0-46dc-9117-f6bd2c0db40d",
   "metadata": {},
   "outputs": [],
   "source": []
  },
  {
   "cell_type": "markdown",
   "id": "8337e8fb-020b-49da-b1ce-6db5bb8bf84b",
   "metadata": {},
   "source": [
    "Q14. How do outliers affect measures of central tendency and dispersion? Provide an example.\n",
    "\n",
    "Answer--> Outliers can have a significant impact on measures of central tendency and dispersion:\n",
    "\n",
    "Measures of Central Tendency:\n",
    "\n",
    "Outliers can significantly affect the mean or average of a dataset.\n",
    "\n",
    "Since the mean is sensitive to extreme values, even a single outlier can greatly pull the mean away from the center of the data.\n",
    "\n",
    "On the other hand, the median is more robust to outliers because it is resistant to extreme values. The median represents the middle value in a sorted dataset, so outliers have less influence on it.\n",
    "\n",
    "Measures of Dispersion:\n",
    "\n",
    "Outliers can have a substantial impact on measures of dispersion such as range, variance, and standard deviation.\n",
    "\n",
    "The range, which is the difference between the maximum and minimum values, can be distorted by outliers that are much larger or smaller than the rest of the data.\n",
    "\n",
    "Outliers can significantly increase the variance and standard deviation since these measures quantify the spread of the data from the mean.\n",
    "\n",
    "However, if the dataset has a large number of observations and the outliers are not extreme, the impact on variance and standard deviation may be less pronounced.\n",
    "\n",
    "Example:\n",
    "Consider a dataset of exam scores for a class: [85, 92, 88, 95, 90, 72, 98, 83, 82, 200]. In this dataset, the value 200 is an outlier.\n",
    "\n",
    "Measures of Central Tendency:\n",
    "\n",
    "Mean: The outlier value 200 significantly affects the mean, pulling it towards the higher end.\n",
    "Median: The median is not affected by the outlier, as it remains the same (90) regardless of the outlier.\n",
    "Mode: The mode is not affected by the outlier, as it remains the same (no mode in this dataset) regardless of the outlier.\n",
    "Measures of Dispersion:\n",
    "\n",
    "Range: The outlier increases the range from 200 - 72 = 128 to 200 - 72 = 128, expanding the range.\n",
    "\n",
    "Variance and Standard Deviation: The outlier increases the variability of the data, resulting in larger values for variance and standard deviation compared to a dataset without the outlier."
   ]
  },
  {
   "cell_type": "code",
   "execution_count": null,
   "id": "d1f392e0-0395-4c15-94cc-e49ba1a35fc2",
   "metadata": {},
   "outputs": [],
   "source": []
  }
 ],
 "metadata": {
  "kernelspec": {
   "display_name": "Python 3 (ipykernel)",
   "language": "python",
   "name": "python3"
  },
  "language_info": {
   "codemirror_mode": {
    "name": "ipython",
    "version": 3
   },
   "file_extension": ".py",
   "mimetype": "text/x-python",
   "name": "python",
   "nbconvert_exporter": "python",
   "pygments_lexer": "ipython3",
   "version": "3.10.8"
  }
 },
 "nbformat": 4,
 "nbformat_minor": 5
}
