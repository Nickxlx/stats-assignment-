{
 "cells": [
  {
   "cell_type": "markdown",
   "id": "f8317aaa-d13e-442b-bcce-9cc517523ff3",
   "metadata": {},
   "source": [
    "Q1. Explain the assumptions required to use ANOVA and provide examples of violations that could impact  the validity of the results.\n",
    "\n",
    "Answer--> ANOVA (Analysis of Variance) is a statistical technique used to compare means across two or more groups or conditions. It is based on several assumptions, and violating these assumptions can affect the validity of the results. The assumptions for ANOVA include:\n",
    "\n",
    "    1 Normality: The data within each group or condition are assumed to be normally distributed. \n",
    "\n",
    "    2 Homogeneity of variances (homoscedasticity): The variability of scores within each group or condition is assumed to be approximately equal across all groups. \n",
    "\n",
    "    3 Absance of outliers: IF there is any outlier present in the data it should be remove first to perform ANOVA\n",
    "\n",
    "    4 Independence: The observations within each group or condition are assumed to be independent of each other as well as random . \n",
    "\n",
    "Violations of these assumptions can impact the validity of ANOVA results. Here are examples of violations and their consequences:\n",
    "\n",
    "    1 Violation of independence: If the observations within groups are not independent, it can lead to biased results. For example, if participants in one group influence each other's responses, such as in a group discussion setting, the assumption of independence is violated.\n",
    "\n",
    "    3 Violation of normality: If the data within groups deviate significantly from a normal distribution, it can affect the validity of ANOVA results. Non-normal distributions may lead to inaccurate p-values and confidence intervals. For example, if the scores in a group are highly skewed or have extreme outliers, normality assumption is violated.\n",
    "\n",
    "    3 Violation of homogeneity of variance: When the variances of the groups being compared are unequal, it can lead to incorrect conclusions. If one group has much larger variability than the others, it can dominate the overall variance, potentially masking significant differences between the group means. Violation of this assumption can inflate or deflate the F-statistic and affect the p-value."
   ]
  },
  {
   "cell_type": "code",
   "execution_count": null,
   "id": "140bca13-ec27-4ada-8332-90e9121655ab",
   "metadata": {},
   "outputs": [],
   "source": []
  },
  {
   "cell_type": "code",
   "execution_count": null,
   "id": "6fe663da-819e-417f-a679-641deabb5d66",
   "metadata": {},
   "outputs": [],
   "source": []
  },
  {
   "cell_type": "markdown",
   "id": "76dee040-06e7-4e0a-9725-52ae22619978",
   "metadata": {},
   "source": [
    "Q2. What are the three types of ANOVA, and in what situations would each be used?\n",
    "\n",
    "Answer--> The three types of ANOVA are:\n",
    "\n",
    "1 One-way ANOVA: One-way ANOVA is used when there is one independent variable (factor) with two or more levels, and these values are independent.\n",
    "    \n",
    "    One-way ANOVA is appropriate in situations where you want to compare the means of multiple groups or conditions. For example, you may use one-way ANOVA to compare the effectiveness of three different treatments on blood pressure levels.\n",
    "    \n",
    "2 Repeated measures ANOVA: Repeated measures ANOVA is used when there is one independent variable (factor) with two or more levels, and these values are dependent.\n",
    "\n",
    "    For example, you may use repeated measures ANOVA to assess the effects of different time points (e.g., before, during, and after treatment) on participants' anxiety levels.\n",
    "    \n",
    "3 Factorial ANOVA: Factorial ANOVA is used when there are two or more independent variables (factors) and each of them have atlest tow levels and also the levels can be either dependet or independent .\n",
    "\n",
    "    Factorial ANOVA is suitable when you want to investigate the combined effects of multiple independent variables on the dependent variable. For example, you may use a 2x2 factorial ANOVA to study the effects of both gender (male vs. female) and treatment type (drug A vs. drug B) on participants' pain perception."
   ]
  },
  {
   "cell_type": "code",
   "execution_count": null,
   "id": "6b8c26e4-450c-4706-b46e-46929212f5ac",
   "metadata": {},
   "outputs": [],
   "source": []
  },
  {
   "cell_type": "code",
   "execution_count": null,
   "id": "5be6b8b1-0616-4791-8de5-ed303f285c0d",
   "metadata": {},
   "outputs": [],
   "source": []
  },
  {
   "cell_type": "markdown",
   "id": "0df8c82f-0f24-4fef-8635-5010338838f0",
   "metadata": {},
   "source": [
    "Q3. What is the partitioning of variance in ANOVA, and why is it important to understand this concept?\n",
    "\n",
    "Answer--> \n",
    "The partitioning of variance in ANOVA refers to the division of the total variance in the data into different components based on the sources of variation. It breaks down the overall variability in the dependent variable into distinct parts that can be attributed to different factors or sources.\n",
    "\n",
    "The partitioning of variance in ANOVA is crucial for understanding the contributions of different factors, assessing their significance, examining interactions, estimating effect sizes, and guiding further analyses. It provides a comprehensive understanding of the sources of variability in the data and facilitates valid interpretations and conclusions."
   ]
  },
  {
   "cell_type": "code",
   "execution_count": null,
   "id": "88437ce6-3803-4031-8fd9-07bd459680e8",
   "metadata": {},
   "outputs": [],
   "source": []
  },
  {
   "cell_type": "code",
   "execution_count": null,
   "id": "c92afa99-7e7d-43a2-af6d-7fb25b719494",
   "metadata": {},
   "outputs": [],
   "source": []
  },
  {
   "cell_type": "markdown",
   "id": "682ab856-eb41-401a-b826-305b1e5806d8",
   "metadata": {},
   "source": [
    "Q4. How would you calculate the total sum of squares (SST), explained sum of squares (SSE), and residual sum of squares (SSR) in a one-way ANOVA using Python?"
   ]
  },
  {
   "cell_type": "code",
   "execution_count": 1,
   "id": "2fa56edb-e0f5-40bd-b882-1854faaeb1a7",
   "metadata": {},
   "outputs": [
    {
     "name": "stdout",
     "output_type": "stream",
     "text": [
      "SST: 102.39999999999999\n",
      "SSE: 37.2\n",
      "SSR: 65.19999999999999\n"
     ]
    }
   ],
   "source": [
    "import numpy as np\n",
    "from scipy import stats\n",
    "\n",
    "# Generate example data\n",
    "group1 = np.array([4, 6, 8, 9, 5])\n",
    "group2 = np.array([2, 3, 1, 5, 4])\n",
    "group3 = np.array([7, 6, 9, 8, 10])\n",
    "\n",
    "# Combine data into a single array\n",
    "data = np.concatenate([group1, group2, group3])\n",
    "\n",
    "# Calculate the mean of the entire dataset\n",
    "mean_total = np.mean(data)\n",
    "\n",
    "# Calculate the total sum of squares (SST)\n",
    "sst = np.sum((data - mean_total) ** 2)\n",
    "\n",
    "# Calculate the group means\n",
    "mean_group1 = np.mean(group1)\n",
    "mean_group2 = np.mean(group2)\n",
    "mean_group3 = np.mean(group3)\n",
    "\n",
    "# Calculate the explained sum of squares (SSE)\n",
    "sse = np.sum((group1 - mean_group1) ** 2) + np.sum((group2 - mean_group2) ** 2) + np.sum((group3 - mean_group3) ** 2)\n",
    "\n",
    "# Calculate the residual sum of squares (SSR)\n",
    "ssr = sst - sse\n",
    "\n",
    "# Print the results\n",
    "print(\"SST:\", sst)\n",
    "print(\"SSE:\", sse)\n",
    "print(\"SSR:\", ssr)"
   ]
  },
  {
   "cell_type": "code",
   "execution_count": null,
   "id": "433a8bb1-dffc-4f4c-90c9-de3bd47489e4",
   "metadata": {},
   "outputs": [],
   "source": []
  },
  {
   "cell_type": "code",
   "execution_count": null,
   "id": "675ea9cb-685f-4ffe-87ca-15a3f56b596a",
   "metadata": {},
   "outputs": [],
   "source": []
  },
  {
   "cell_type": "markdown",
   "id": "eeebc147-2d77-49ba-8aa0-05058faacd5e",
   "metadata": {},
   "source": [
    "Q5. In a two-way ANOVA, how would you calculate the main effects and interaction effects using Python?"
   ]
  },
  {
   "cell_type": "code",
   "execution_count": 2,
   "id": "0847396a-2ec1-4e46-b144-f36721077971",
   "metadata": {},
   "outputs": [
    {
     "name": "stdout",
     "output_type": "stream",
     "text": [
      "                 sum_sq   df          F    PR(>F)\n",
      "Factor1           128.0  1.0  14.222222  0.019584\n",
      "Factor2             2.0  1.0   0.222222  0.661914\n",
      "Factor1:Factor2     2.0  1.0   0.222222  0.661914\n",
      "Residual           36.0  4.0        NaN       NaN\n",
      "Main Effect of Factor 1: 128.00000000000017\n",
      "Main Effect of Factor 2: 2.000000000000013\n",
      "Interaction Effect: 2.0000000000000044\n"
     ]
    }
   ],
   "source": [
    "import pandas as pd\n",
    "import statsmodels.api as sm\n",
    "from statsmodels.formula.api import ols\n",
    "\n",
    "# Create a DataFrame with the data for the two-way ANOVA\n",
    "data = pd.DataFrame({\n",
    "    'Factor1': ['A', 'A', 'A', 'A', 'B', 'B', 'B', 'B'],\n",
    "    'Factor2': ['X', 'Y', 'X', 'Y', 'X', 'Y', 'X', 'Y'],\n",
    "    'Response': [10, 12, 14, 16, 20, 18, 22, 24]\n",
    "})\n",
    "\n",
    "# Perform two-way ANOVA\n",
    "model = ols('Response ~ Factor1 + Factor2 + Factor1:Factor2', data=data).fit()\n",
    "anova_table = sm.stats.anova_lm(model, typ=2)\n",
    "print(anova_table)\n",
    "\n",
    "# Extract main effects and interaction effects\n",
    "main_effect_factor1 = anova_table['sum_sq']['Factor1']\n",
    "main_effect_factor2 = anova_table['sum_sq']['Factor2']\n",
    "interaction_effect = anova_table['sum_sq']['Factor1:Factor2']\n",
    "\n",
    "print(\"Main Effect of Factor 1:\", main_effect_factor1)\n",
    "print(\"Main Effect of Factor 2:\", main_effect_factor2)\n",
    "print(\"Interaction Effect:\", interaction_effect)"
   ]
  },
  {
   "cell_type": "code",
   "execution_count": null,
   "id": "87285a43-9b64-4ba7-9475-7f016a651798",
   "metadata": {},
   "outputs": [],
   "source": []
  },
  {
   "cell_type": "code",
   "execution_count": null,
   "id": "5af900d5-3b8d-4e79-ab5a-64d30bb5390b",
   "metadata": {},
   "outputs": [],
   "source": []
  },
  {
   "cell_type": "markdown",
   "id": "d9a98059-842f-4007-add9-1c97408357da",
   "metadata": {
    "tags": []
   },
   "source": [
    "Q6. Suppose you conducted a one-way ANOVA and obtained an F-statistic of 5.23 and a p-value of 0.02. What can you conclude about the differences between the groups, and how would you interpret these results?\n",
    "\n",
    "Answer--> In a one-way ANOVA, the F-statistic is used to test whether there are significant differences between the means of the groups being compared. The p-value associated with the F-statistic helps determine the statistical significance of these differences. \n",
    "\n",
    "In the given scenario, with an F-statistic of 5.23 and a p-value of 0.02, we can make the following conclusions:\n",
    "\n",
    "1. Significant differences: The obtained p-value of 0.02 is less than the conventional significance level of 0.05 (assuming an alpha level of 0.05). This indicates that there is strong evidence to reject the null hypothesis that the means of the groups are equal. In other words, there are significant differences between at least some of the groups being compared.\n",
    "\n",
    "2. Interpretation: Based on these results, we can conclude that there are statistically significant differences in the means of the groups being compared. However, the one-way ANOVA does not provide specific information about which particular group means differ from each other. To determine the specific group differences, post hoc tests or pairwise comparisons can be conducted.\n",
    "\n",
    "3. Further analysis: Given the significant overall difference, further analyses can be performed to investigate pairwise comparisons between group means. Post hoc tests, such as Tukey's HSD (honestly significant difference) or Bonferroni corrections, can be used to identify which specific group comparisons are significantly different from each other.\n",
    "\n",
    "It is important to note that the interpretation of the results should also consider the context and the specific research question being addressed. Additionally, other factors like effect size, sample size, and practical significance should be considered when interpreting the results of the one-way ANOVA."
   ]
  },
  {
   "cell_type": "code",
   "execution_count": null,
   "id": "f0e240e9-56a2-4d8b-a718-9a54a5a70ad3",
   "metadata": {},
   "outputs": [],
   "source": []
  },
  {
   "cell_type": "code",
   "execution_count": null,
   "id": "16a8e652-74a2-4ccb-8857-82abec815f01",
   "metadata": {},
   "outputs": [],
   "source": []
  },
  {
   "cell_type": "markdown",
   "id": "ef8203c6-cd01-4c46-9b56-6aaabfcfa9ee",
   "metadata": {
    "tags": []
   },
   "source": [
    "Q7. In a repeated measures ANOVA, how would you handle missing data, and what are the potential consequences of using different methods to handle missing data?\n",
    "\n",
    "Answer--> Here are some common methods to handle missing data in repeated measures ANOVA and their potential consequences:\n",
    "\n",
    "    Complete Case Analysis (Listwise deletion)\n",
    "    Pairwise Deletion\n",
    "    Mean Substitution\n",
    "    Multiple Imputation\n",
    "    Maximum Likelihood Estimation\n",
    "    \n",
    "The consequences of using different methods to handle missing data can vary:\n",
    "\n",
    "    Complete case analysis and pairwise deletion can result in reduced statistical power, biased estimates if the missingness is related to the variables, and potentially limit generalizability.\n",
    "\n",
    "    Mean substitution can introduce bias if the missingness is related to the variable itself or other factors influencing the variable.\n",
    "\n",
    "    Multiple imputation and maximum likelihood estimation can provide more accurate estimates by accounting for uncertainty due to missing data. However, they rely on assumptions about the missing data mechanism, and inappropriate assumptions can lead to biased results."
   ]
  },
  {
   "cell_type": "code",
   "execution_count": null,
   "id": "ac8c59c5-6824-4197-8e02-3c794b0f6378",
   "metadata": {},
   "outputs": [],
   "source": []
  },
  {
   "cell_type": "code",
   "execution_count": null,
   "id": "5226c751-f670-4d70-8af4-a42329ca8701",
   "metadata": {},
   "outputs": [],
   "source": []
  },
  {
   "cell_type": "markdown",
   "id": "9044e9fe-1d77-491a-87d9-a4a39a36d4ea",
   "metadata": {
    "tags": []
   },
   "source": [
    "Q8. What are some common post-hoc tests used after ANOVA, and when would you use each one? Provide an example of a situation where a post-hoc test might be necessary.\n",
    "\n",
    "Answer-->After conducting an ANOVA and finding a significant overall effect, post-hoc tests are used to compare specific group differences and determine which groups significantly differ from each other. Here are some common post-hoc tests used after ANOVA:\n",
    "\n",
    "    Tukey's Honestly Significant Difference (HSD)\n",
    "    Bonferroni correction\n",
    "    Sidak correction\n",
    "    Dunnett's test\n",
    "    Scheffé's test\n",
    "\n",
    "An example situation where a post-hoc test might be necessary is when conducting a one-way ANOVA to compare the effectiveness of different treatments on pain relief. After obtaining a significant overall effect, you may want to conduct a post-hoc test to determine which specific treatment groups significantly differ from each other. This would help identify the specific treatments that are more effective than others and provide valuable insights for decision-making in clinical or research settings."
   ]
  },
  {
   "cell_type": "code",
   "execution_count": null,
   "id": "4666ef5a-a842-46ff-8007-2dc623aacc12",
   "metadata": {},
   "outputs": [],
   "source": []
  },
  {
   "cell_type": "code",
   "execution_count": null,
   "id": "d0d4e87a-700f-4287-b34f-1248c4c95a2d",
   "metadata": {},
   "outputs": [],
   "source": []
  },
  {
   "cell_type": "markdown",
   "id": "eb9e2330-37e6-4b7e-8f5a-b1f056602e13",
   "metadata": {},
   "source": [
    "Q9. A researcher wants to compare the mean weight loss of three diets: A, B, and C. They collect data from 50 participants who were randomly assigned to one of the diets. Conduct a one-way ANOVA using Python to determine if there are any significant differences between the mean weight loss of the three diets. Report the F-statistic and p-value, and interpret the results."
   ]
  },
  {
   "cell_type": "code",
   "execution_count": 3,
   "id": "0e6a86ac-d404-44a1-80e6-f80d7bddf893",
   "metadata": {},
   "outputs": [
    {
     "name": "stdout",
     "output_type": "stream",
     "text": [
      "F-statistic: 60.35724557746856\n",
      "p-value: 7.310396587520461e-20\n",
      "There is a significant difference between the mean weight loss of the three diets.\n"
     ]
    }
   ],
   "source": [
    "import numpy as np\n",
    "from scipy import stats\n",
    "\n",
    "# Generate example data\n",
    "np.random.seed(42)  # Set a seed for reproducibility\n",
    "diet_A = np.random.normal(loc=5, scale=1, size=50)\n",
    "diet_B = np.random.normal(loc=6, scale=1, size=50)\n",
    "diet_C = np.random.normal(loc=4, scale=1, size=50)\n",
    "\n",
    "# Combine data into a single array\n",
    "data = np.concatenate([diet_A, diet_B, diet_C])\n",
    "\n",
    "# Create a group indicator array\n",
    "groups = np.array(['A'] * 50 + ['B'] * 50 + ['C'] * 50)\n",
    "\n",
    "# Perform one-way ANOVA\n",
    "f_statistic, p_value = stats.f_oneway(diet_A, diet_B, diet_C)\n",
    "\n",
    "# Print the results\n",
    "print(\"F-statistic:\", f_statistic)\n",
    "print(\"p-value:\", p_value)\n",
    "\n",
    "# Interpret the results\n",
    "if p_value < 0.05:\n",
    "    print(\"There is a significant difference between the mean weight loss of the three diets.\")\n",
    "else:\n",
    "    print(\"There is no significant difference between the mean weight loss of the three diets.\")"
   ]
  },
  {
   "cell_type": "code",
   "execution_count": null,
   "id": "1f7f384d-69ad-49a9-a477-5abc3d22f999",
   "metadata": {},
   "outputs": [],
   "source": []
  },
  {
   "cell_type": "code",
   "execution_count": null,
   "id": "af5e244f-3e7e-4e74-8936-0c786e6fd148",
   "metadata": {},
   "outputs": [],
   "source": []
  },
  {
   "cell_type": "markdown",
   "id": "f11b4f0f-f330-4b38-8f88-39a939c44f31",
   "metadata": {},
   "source": [
    "Q10. A company wants to know if there are any significant differences in the average time it takes to complete a task using three different software programs: Program A, Program B, and Program C. They randomly assign 30 employees to one of the programs and record the time it takes each employee to\n",
    "complete the task. Conduct a two-way ANOVA using Python to determine if there are any main effects or interaction effects between the software programs and employee experience level (novice vs. experienced). Report the F-statistics and p-values, and interpret the results."
   ]
  },
  {
   "cell_type": "code",
   "execution_count": 4,
   "id": "9f102db0-0f48-4afd-a191-c025d27182bb",
   "metadata": {},
   "outputs": [
    {
     "name": "stdout",
     "output_type": "stream",
     "text": [
      "                             df      sum_sq    mean_sq         F    PR(>F)\n",
      "C(Software)                 2.0   96.266667  48.133333  7.515242  0.002922\n",
      "C(Experience)               1.0    4.226087   4.226087  0.659835  0.424603\n",
      "C(Software):C(Experience)   2.0    9.659627   4.829814  0.754097  0.481258\n",
      "Residual                   24.0  153.714286   6.404762       NaN       NaN\n"
     ]
    }
   ],
   "source": [
    "import pandas as pd\n",
    "import statsmodels.api as sm\n",
    "from statsmodels.formula.api import ols\n",
    "\n",
    "# Create a sample dataset with task completion time, software program, and experience level\n",
    "data = pd.DataFrame({\n",
    "    'TaskTime': [12, 14, 10, 15, 13, 11, 16, 18, 20, 14, 16, 12, 8, 10, 13, 11, 9, 10, 12, 14, 16, 14, 17, 19, 15, 12, 14, 13, 16, 18],\n",
    "    'Software': ['A', 'A', 'A', 'A', 'A', 'A', 'B', 'B', 'B', 'B', 'B', 'B', 'C', 'C', 'C', 'C', 'C', 'C', 'A', 'A', 'A', 'B', 'B', 'B', 'C', 'C', 'C', 'A', 'B', 'C'],\n",
    "    'Experience': ['Novice', 'Novice', 'Novice', 'Experienced', 'Experienced', 'Experienced', 'Novice', 'Novice', 'Novice', 'Experienced', 'Experienced', 'Experienced', 'Novice', 'Novice', 'Novice', 'Experienced', 'Experienced', 'Experienced', 'Novice', 'Novice', 'Novice', 'Experienced', 'Experienced', 'Experienced', 'Novice', 'Novice', 'Novice', 'Experienced', 'Experienced', 'Experienced']\n",
    "})\n",
    "\n",
    "# Fit the ANOVA model\n",
    "model = ols('TaskTime ~ C(Software) + C(Experience) + C(Software):C(Experience)', data=data).fit()\n",
    "anova_table = sm.stats.anova_lm(model)\n",
    "\n",
    "# Print the ANOVA table\n",
    "print(anova_table)"
   ]
  },
  {
   "cell_type": "code",
   "execution_count": null,
   "id": "a0502bac-f115-4355-aec2-66e99cb8600d",
   "metadata": {},
   "outputs": [],
   "source": []
  },
  {
   "cell_type": "code",
   "execution_count": null,
   "id": "ed056463-84b9-46a7-a515-db712645b9ed",
   "metadata": {},
   "outputs": [],
   "source": []
  },
  {
   "cell_type": "markdown",
   "id": "461d117e-27a1-4dc3-9758-528f7966821c",
   "metadata": {},
   "source": [
    "Q11. An educational researcher is interested in whether a new teaching method improves student test\n",
    "scores. They randomly assign 100 students to either the control group (traditional teaching method) or the\n",
    "experimental group (new teaching method) and administer a test at the end of the semester. Conduct a\n",
    "two-sample t-test using Python to determine if there are any significant differences in test scores\n",
    "between the two groups. If the results are significant, follow up with a post-hoc test to determine which\n",
    "group(s) differ significantly from each other."
   ]
  },
  {
   "cell_type": "code",
   "execution_count": 5,
   "id": "eba3f22c-7bf4-49d5-bb3e-93bc53083c0b",
   "metadata": {},
   "outputs": [
    {
     "name": "stdout",
     "output_type": "stream",
     "text": [
      "The t-test result is significant. There is a significant difference in test scores between the two groups.\n",
      "  Multiple Comparison of Means - Tukey HSD, FWER=0.05   \n",
      "========================================================\n",
      " group1    group2    meandiff p-adj lower  upper  reject\n",
      "--------------------------------------------------------\n",
      "Control Experimental   6.2277   0.0 3.4009 9.0545   True\n",
      "--------------------------------------------------------\n"
     ]
    }
   ],
   "source": [
    "import numpy as np\n",
    "import pandas as pd\n",
    "import scipy.stats as stats\n",
    "from statsmodels.stats.multicomp import pairwise_tukeyhsd\n",
    "\n",
    "# Generate random test scores for the control and experimental groups\n",
    "np.random.seed(1)  # Set a random seed for reproducibility\n",
    "control_scores = np.random.normal(loc=70, scale=10, size=100)\n",
    "experimental_scores = np.random.normal(loc=75, scale=12, size=100)\n",
    "\n",
    "# Perform two-sample t-test\n",
    "t_statistic, p_value = stats.ttest_ind(control_scores, experimental_scores)\n",
    "\n",
    "# Check if the results are significant\n",
    "if p_value < 0.05:\n",
    "    print(\"The t-test result is significant. There is a significant difference in test scores between the two groups.\")\n",
    "else:\n",
    "    print(\"The t-test result is not significant. There is no significant difference in test scores between the two groups.\")\n",
    "\n",
    "# Perform post-hoc test (Tukey's HSD)\n",
    "all_scores = np.concatenate([control_scores, experimental_scores])\n",
    "group_labels = ['Control'] * len(control_scores) + ['Experimental'] * len(experimental_scores)\n",
    "\n",
    "posthoc = pairwise_tukeyhsd(all_scores, group_labels)\n",
    "print(posthoc)"
   ]
  },
  {
   "cell_type": "code",
   "execution_count": null,
   "id": "53e07ee0-eb44-4d89-8c4d-8ee895405743",
   "metadata": {},
   "outputs": [],
   "source": []
  },
  {
   "cell_type": "code",
   "execution_count": null,
   "id": "7eca0901-f772-48ab-84ef-fbe7e7a82998",
   "metadata": {},
   "outputs": [],
   "source": []
  },
  {
   "cell_type": "markdown",
   "id": "f5114180-b650-4790-a182-b5b1b2036358",
   "metadata": {},
   "source": [
    "Q12. A researcher wants to know if there are any significant differences in the average daily sales of three\n",
    "retail stores: Store A, Store B, and Store C. They randomly select 30 days and record the sales for each store\n",
    "on those days. Conduct a repeated measures ANOVA using Python to determine if there are any\n",
    "significant differences in sales between the three stores. If the results are significant, follow up with a post-\n",
    "hoc test to determine which store(s) differ significantly from each other."
   ]
  },
  {
   "cell_type": "code",
   "execution_count": 6,
   "id": "bb071c95-8716-43ad-91d8-477ab2d6f6b5",
   "metadata": {},
   "outputs": [
    {
     "name": "stdout",
     "output_type": "stream",
     "text": [
      "The ANOVA result is not significant. There are no significant differences in sales between the stores.\n",
      " Multiple Comparison of Means - Tukey HSD, FWER=0.05 \n",
      "=====================================================\n",
      " group1  group2 meandiff p-adj   lower  upper  reject\n",
      "-----------------------------------------------------\n",
      "Store_A Store_B      0.0    1.0 -5.1419 5.1419  False\n",
      "Store_A Store_C  -0.8333 0.9211 -5.9752 4.3086  False\n",
      "Store_B Store_C  -0.8333 0.9211 -5.9752 4.3086  False\n",
      "-----------------------------------------------------\n"
     ]
    }
   ],
   "source": [
    "import pandas as pd\n",
    "import scipy.stats as stats\n",
    "from statsmodels.stats.multicomp import pairwise_tukeyhsd\n",
    "\n",
    "# Prepare the data\n",
    "data = pd.DataFrame({\n",
    "    'Day': range(1, 31),\n",
    "    'Store_A': [100, 95, 105, 110, 90, 115, 95, 105, 100, 105, 95, 105, 100, 95, 105, 110, 90, 115, 95, 105, 100, 105, 95, 105, 100, 95, 105, 110, 90, 115],\n",
    "    'Store_B': [120, 85, 105, 110, 95, 100, 105, 95, 105, 100, 95, 105, 120, 85, 105, 110, 95, 100, 105, 95, 105, 100, 95, 105, 120, 85, 105, 110, 95, 100],\n",
    "    'Store_C': [110, 95, 85, 115, 100, 105, 95, 105, 100, 95, 105, 110, 95, 85, 115, 100, 105, 95, 105, 100, 95, 105, 110, 95, 85, 115, 100, 105, 95, 105]\n",
    "})\n",
    "\n",
    "# Reshape the data from wide to long format\n",
    "data_long = pd.melt(data, id_vars='Day', var_name='Store', value_name='Sales')\n",
    "\n",
    "# Perform repeated measures ANOVA\n",
    "anova_result = stats.f_oneway(data_long[data_long['Store'] == 'Store_A']['Sales'],\n",
    "                              data_long[data_long['Store'] == 'Store_B']['Sales'],\n",
    "                              data_long[data_long['Store'] == 'Store_C']['Sales'])\n",
    "\n",
    "# Extract the p-value from the ANOVA result\n",
    "p_value = anova_result.pvalue\n",
    "\n",
    "# Check if the results are significant\n",
    "if p_value < 0.05:\n",
    "    print(\"The ANOVA result is significant. There are significant differences in sales between the stores.\")\n",
    "else:\n",
    "    print(\"The ANOVA result is not significant. There are no significant differences in sales between the stores.\")\n",
    "\n",
    "# Perform Tukey's HSD post-hoc test\n",
    "posthoc = pairwise_tukeyhsd(data_long['Sales'], data_long['Store'], alpha=0.05)\n",
    "\n",
    "# Print the post-hoc test summary\n",
    "print(posthoc)"
   ]
  },
  {
   "cell_type": "code",
   "execution_count": null,
   "id": "be6ae94d-c7c0-43d1-8f1f-86c57ba69998",
   "metadata": {},
   "outputs": [],
   "source": []
  }
 ],
 "metadata": {
  "kernelspec": {
   "display_name": "Python 3 (ipykernel)",
   "language": "python",
   "name": "python3"
  },
  "language_info": {
   "codemirror_mode": {
    "name": "ipython",
    "version": 3
   },
   "file_extension": ".py",
   "mimetype": "text/x-python",
   "name": "python",
   "nbconvert_exporter": "python",
   "pygments_lexer": "ipython3",
   "version": "3.10.8"
  }
 },
 "nbformat": 4,
 "nbformat_minor": 5
}
