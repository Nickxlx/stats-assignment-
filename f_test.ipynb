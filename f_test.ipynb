{
 "cells": [
  {
   "cell_type": "code",
   "execution_count": 1,
   "id": "d31dda8b-2148-45e8-b884-7733709b6254",
   "metadata": {},
   "outputs": [],
   "source": [
    "import scipy.stats as stats\n",
    "import numpy as np"
   ]
  },
  {
   "cell_type": "markdown",
   "id": "0e38a539-2f6b-4dc9-b51b-eccdfaca29fa",
   "metadata": {},
   "source": [
    "Q1. Write a Python function that takes in two arrays of data and calculates the F-value for a variance ratio test. The function should return the F-value and the corresponding p-value for the test"
   ]
  },
  {
   "cell_type": "code",
   "execution_count": 2,
   "id": "e291c222-7bbb-4158-809f-45253a70935a",
   "metadata": {},
   "outputs": [],
   "source": [
    "def calulation(a1 , a2):\n",
    "    data1 = np.array(a1)\n",
    "    data2 = np.array(a2)    \n",
    "    \n",
    "    df1 = len(data1)-1\n",
    "    df2 = len(data2)-1\n",
    "    \n",
    "    \n",
    "    f_value = np.var(data1)/np.var(data2)\n",
    "    p_value = stats.f.sf(f_value, df1, df2)\n",
    "    \n",
    "    return(f_value, p_value)\n"
   ]
  },
  {
   "cell_type": "code",
   "execution_count": 3,
   "id": "35bbef62-665a-4d91-8491-4ff183e9de07",
   "metadata": {},
   "outputs": [
    {
     "name": "stdout",
     "output_type": "stream",
     "text": [
      "F-value: 1.0\n",
      "p-value: 0.5\n"
     ]
    }
   ],
   "source": [
    "array1 = np.array([1, 2, 3, 4, 5])\n",
    "array2 = np.array([6, 7, 8, 9, 10])\n",
    "\n",
    "f_value, p_value = calulation(array1, array2)\n",
    "print(\"F-value:\", f_value)\n",
    "print(\"p-value:\", p_value)"
   ]
  },
  {
   "cell_type": "code",
   "execution_count": null,
   "id": "9dcbf433-b8a0-49e1-bb38-267625717a9f",
   "metadata": {},
   "outputs": [],
   "source": []
  },
  {
   "cell_type": "code",
   "execution_count": null,
   "id": "ef943f9b-24cd-440f-90c6-1e38d80f523f",
   "metadata": {},
   "outputs": [],
   "source": []
  },
  {
   "cell_type": "markdown",
   "id": "ea557c45-fdfd-47f4-88a1-5eeead289672",
   "metadata": {},
   "source": [
    "Q2. Given a significance level of 0.05 and the degrees of freedom for the numerator and denominator of an F-distribution, write a Python function that returns the critical F-value for a two-tailed test."
   ]
  },
  {
   "cell_type": "code",
   "execution_count": 4,
   "id": "4b12c393-d6fa-4490-bf17-1a9c8820c084",
   "metadata": {},
   "outputs": [],
   "source": [
    "def calculation(q , df1, df2):\n",
    "    cv = stats.f.ppf(1-q/2, df1, df2)\n",
    "    return cv "
   ]
  },
  {
   "cell_type": "code",
   "execution_count": 5,
   "id": "7de1d33f-b841-401e-aba4-b645aead2c2c",
   "metadata": {},
   "outputs": [
    {
     "name": "stdout",
     "output_type": "stream",
     "text": [
      "critical value is : 2.773671375199082\n"
     ]
    }
   ],
   "source": [
    "alpha = 0.05\n",
    "df1 = 10\n",
    "df2 = 20\n",
    "\n",
    "critical_value = calculation(alpha, df1, df2)\n",
    "print(\"critical value is :\", critical_value)"
   ]
  },
  {
   "cell_type": "code",
   "execution_count": null,
   "id": "cd84f1c6-6b93-40ac-bd5c-dca94d6949c2",
   "metadata": {},
   "outputs": [],
   "source": []
  },
  {
   "cell_type": "code",
   "execution_count": null,
   "id": "763b4b7f-a26d-4a8b-925f-b3a6d46ab2b0",
   "metadata": {},
   "outputs": [],
   "source": []
  },
  {
   "cell_type": "markdown",
   "id": "56db2dcc-1814-417e-a242-3839b19a5109",
   "metadata": {},
   "source": [
    "Q3. Write a Python program that generates random samples from two normal distributions with known variances and uses an F-test to determine if the variances are equal. The program should output the F-value, degrees of freedom, and p-value for the test."
   ]
  },
  {
   "cell_type": "code",
   "execution_count": 6,
   "id": "30577ca4-a9e6-411d-b702-1d3d7272abeb",
   "metadata": {},
   "outputs": [],
   "source": [
    "def cal(data1 , data2):\n",
    "    \n",
    "    sample1 = np.array(data1)\n",
    "    sample2 = np.array(data2)    \n",
    "    \n",
    "    f_value = np.var(sample1)/np.var(sample2)\n",
    "    \n",
    "    df1 = len(sample1) - 1 \n",
    "    df2 = len(sample2) - 1     \n",
    "    \n",
    "    p_value = stats.f.sf(f_value , df1 , df2)\n",
    "    \n",
    "    return f_value, df1, df2, p_value"
   ]
  },
  {
   "cell_type": "code",
   "execution_count": 7,
   "id": "24eba677-73cf-4421-937e-f16dbcfbab1e",
   "metadata": {},
   "outputs": [
    {
     "name": "stdout",
     "output_type": "stream",
     "text": [
      "F-value: 1.3117042942081811\n",
      "Degrees of freedom df1 , df2 99 99\n",
      "p-value: 0.08941268308720515\n"
     ]
    }
   ],
   "source": [
    "data1 = np.random.normal(loc = 0.0, scale = 1 , size = 100)\n",
    "data2 = np.random.normal(loc = 0.0, scale = 1 , size = 100)\n",
    "\n",
    "f_value , df1, df2, p_value = cal(data1, data2)\n",
    "\n",
    "print(\"F-value:\", f_value)\n",
    "print(\"Degrees of freedom df1 , df2\", df1, df2)\n",
    "print(\"p-value:\", p_value)"
   ]
  },
  {
   "cell_type": "code",
   "execution_count": null,
   "id": "e7e88135-92ab-448c-8c2e-43fd807e36c4",
   "metadata": {},
   "outputs": [],
   "source": []
  },
  {
   "cell_type": "code",
   "execution_count": null,
   "id": "0b7df831-241f-4573-9be2-423d7601134f",
   "metadata": {},
   "outputs": [],
   "source": []
  },
  {
   "cell_type": "markdown",
   "id": "3107ce52-5a49-42e1-8dd0-53ac88cc4ae2",
   "metadata": {},
   "source": [
    "Q4.The variances of two populations are known to be 10 and 15. A sample of 12 observations is taken from each population. Conduct an F-test at the 5% significance level to determine if the variances are significantly different."
   ]
  },
  {
   "cell_type": "code",
   "execution_count": 8,
   "id": "7364024c-1556-4345-8e66-14637dff632d",
   "metadata": {},
   "outputs": [
    {
     "name": "stdout",
     "output_type": "stream",
     "text": [
      "Fail to Reject the Null hypothesis, the variances are not significantly different\n"
     ]
    }
   ],
   "source": [
    "var1 = 10\n",
    "var2 = 20\n",
    "sample_size = 12\n",
    "alpha = 0.05\n",
    "df1 = df2 = sample_size - 1\n",
    "\n",
    "f_test = var1/var2\n",
    "\n",
    "critical_value = stats.f.ppf(1-alpha, df1, df2)\n",
    "\n",
    "if f_test > critical_value:\n",
    "    print(\"Reject the Null hypothesis, the variances are significantly different\")\n",
    "else:\n",
    "    print(\"Fail to Reject the Null hypothesis, the variances are not significantly different\")    "
   ]
  },
  {
   "cell_type": "code",
   "execution_count": null,
   "id": "e0ec4d18-1d50-4b6b-a459-10c93a23bfb3",
   "metadata": {},
   "outputs": [],
   "source": []
  },
  {
   "cell_type": "code",
   "execution_count": null,
   "id": "fa054d80-5e08-4253-a070-9e3906459372",
   "metadata": {},
   "outputs": [],
   "source": []
  },
  {
   "cell_type": "markdown",
   "id": "b1d2bc53-242a-4096-a41e-537db21e4dea",
   "metadata": {},
   "source": [
    "Q5. A manufacturer claims that the variance of the diameter of a certain product is 0.005. A sample of 25 products is taken, and the sample variance is found to be 0.006. Conduct an F-test at the 1% significance level to determine if the claim is justified."
   ]
  },
  {
   "cell_type": "code",
   "execution_count": 9,
   "id": "f673a7cf-9718-4ad3-9d9d-1648c84e8ed7",
   "metadata": {},
   "outputs": [
    {
     "name": "stdout",
     "output_type": "stream",
     "text": [
      "Fail to reject the null hypothesis. The claim is justified.\n"
     ]
    }
   ],
   "source": [
    "var1 = 0.005\n",
    "var2 = 0.006\n",
    "sample_size = 25\n",
    "alpha = 0.01\n",
    "df1 = df2 = sample_size - 1\n",
    "\n",
    "f_test = var1/var2\n",
    "\n",
    "critical_value = stats.f.ppf(1-alpha, df1, df2)\n",
    "\n",
    "if f_value > critical_value:\n",
    "    print(\"Reject the null hypothesis. The claim is not justified.\")\n",
    "else:\n",
    "    print(\"Fail to reject the null hypothesis. The claim is justified.\")    "
   ]
  },
  {
   "cell_type": "code",
   "execution_count": null,
   "id": "7e04aaae-bc1b-4281-99ee-9507be0bd6ca",
   "metadata": {},
   "outputs": [],
   "source": []
  },
  {
   "cell_type": "code",
   "execution_count": null,
   "id": "eb9c1ff6-0a9f-4092-b975-2068e184fc46",
   "metadata": {},
   "outputs": [],
   "source": []
  },
  {
   "cell_type": "markdown",
   "id": "7086361c-c235-4b3c-b74c-1592efce0905",
   "metadata": {},
   "source": [
    "Q6. Write a Python function that takes in the degrees of freedom for the numerator and denominator of an F-distribution and calculates the mean and variance of the distribution. The function should return the mean and variance as a tuple."
   ]
  },
  {
   "cell_type": "code",
   "execution_count": 10,
   "id": "ac6c25c9-29fc-41e7-a0db-15deb6a75624",
   "metadata": {},
   "outputs": [
    {
     "name": "stdout",
     "output_type": "stream",
     "text": [
      "Mean: 1.25\n",
      "Variance: 1.3541666666666667\n"
     ]
    }
   ],
   "source": [
    "def f_distribution_stats(df1, df2):\n",
    "    # Calculate the mean\n",
    "    if df2 > 2:\n",
    "        mean = df2 / (df2 - 2)\n",
    "    else:\n",
    "        mean = float('inf')\n",
    "\n",
    "    # Calculate the variance\n",
    "    if df2 > 4:\n",
    "        var = (2 * (df2 ** 2) * (df1 + df2 - 2)) / ((df1 * (df2 - 2) ** 2 * (df2 - 4)))\n",
    "    else:\n",
    "        var = float('inf')\n",
    "\n",
    "    return mean, var\n",
    "\n",
    "\n",
    "df1 = 5\n",
    "df2 = 10\n",
    "\n",
    "mean, variance = f_distribution_stats(df1, df2)\n",
    "print(\"Mean:\", mean)\n",
    "print(\"Variance:\", variance)\n"
   ]
  },
  {
   "cell_type": "code",
   "execution_count": null,
   "id": "007dc8fe-0253-436a-9083-ac01a87b16ce",
   "metadata": {},
   "outputs": [],
   "source": []
  },
  {
   "cell_type": "code",
   "execution_count": null,
   "id": "590422f8-5569-4774-a2cd-adf0a951ba4d",
   "metadata": {},
   "outputs": [],
   "source": []
  },
  {
   "cell_type": "markdown",
   "id": "98dc1ec3-6f37-44d9-abad-dc6e7fece99e",
   "metadata": {},
   "source": [
    "Q7. A random sample of 10 measurements is taken from a normal population with unknown variance. The sample variance is found to be 25. Another random sample of 15 measurements is taken from another normal population with unknown variance, and the sample variance is found to be 20. Conduct an F-test at the 10% significance level to determine if the variances are significantly different."
   ]
  },
  {
   "cell_type": "code",
   "execution_count": 11,
   "id": "a59ea61b-9bde-47fd-8ad6-b44e2e034e1f",
   "metadata": {},
   "outputs": [
    {
     "name": "stdout",
     "output_type": "stream",
     "text": [
      "Fail to reject the null hypothesis. Variances are not significantly different.\n"
     ]
    }
   ],
   "source": [
    "var1 = 25\n",
    "var2 = 20\n",
    "sample_size1 = 10\n",
    "sample_size2 = 15\n",
    "alpha = 0.10\n",
    "\n",
    "df1 = sample_size1 -1\n",
    "df2 = sample_size2 -1\n",
    "\n",
    "f_test = var1/var2\n",
    "\n",
    "critical_value = stats.f.ppf(1-alpha, df1 , df2)\n",
    "\n",
    "if f_value > critical_value:\n",
    "    print(\"Reject the null hypothesis. Variances are significantly different.\")\n",
    "else:\n",
    "    print(\"Fail to reject the null hypothesis. Variances are not significantly different.\")\n"
   ]
  },
  {
   "cell_type": "code",
   "execution_count": null,
   "id": "9c6bf6fe-fce0-40b6-aee1-63026d20ee65",
   "metadata": {},
   "outputs": [],
   "source": []
  },
  {
   "cell_type": "code",
   "execution_count": null,
   "id": "5d035cd4-6b31-4df7-8461-d1c8b74d896e",
   "metadata": {},
   "outputs": [],
   "source": []
  },
  {
   "cell_type": "markdown",
   "id": "81372e98-2a7c-4577-81c3-482059e709e0",
   "metadata": {},
   "source": [
    "Q8. The following data represent the waiting times in minutes at two different restaurants on a Saturday night: Restaurant A: 24, 25, 28, 23, 22, 20, 27; Restaurant B: 31, 33, 35, 30, 32, 36. Conduct an F-test at the 5% significance level to determine if the variances are significantly different."
   ]
  },
  {
   "cell_type": "code",
   "execution_count": 12,
   "id": "decbac6a-0f38-4cd1-85b7-69834029f2fd",
   "metadata": {},
   "outputs": [
    {
     "name": "stdout",
     "output_type": "stream",
     "text": [
      "Fail to reject the null hypothesis. Variances are not significantly different.\n"
     ]
    }
   ],
   "source": [
    "Restaurant_A = [24, 25, 28, 23, 22, 20, 27]\n",
    "Restaurant_B = [31, 33, 35, 30, 32, 36]\n",
    "\n",
    "alpha = 0.05\n",
    "\n",
    "df1 = len(Restaurant_A) - 1\n",
    "df2 = len(Restaurant_B) - 1\n",
    "\n",
    "f_test =  np.var(Restaurant_A)/np.var(Restaurant_B)\n",
    "\n",
    "critical_Value = stats.f.ppf(1-alpha, df1, df2)\n",
    "\n",
    "if f_value > critical_value:\n",
    "    print(\"Reject the null hypothesis. Variances are significantly different.\")\n",
    "else:\n",
    "    print(\"Fail to reject the null hypothesis. Variances are not significantly different.\")"
   ]
  },
  {
   "cell_type": "code",
   "execution_count": null,
   "id": "d1ac29cc-c669-4db2-a8cf-d9a2c1de1843",
   "metadata": {},
   "outputs": [],
   "source": []
  },
  {
   "cell_type": "code",
   "execution_count": null,
   "id": "d75080fa-c9f6-4c66-b4d6-2dbdabba2188",
   "metadata": {},
   "outputs": [],
   "source": []
  },
  {
   "cell_type": "markdown",
   "id": "f75efed0-7ab3-49ce-943f-9725e70b2e0c",
   "metadata": {},
   "source": [
    "Q9. The following data represent the test scores of two groups of students: Group A: 80, 85, 90, 92, 87, 83; Group B: 75, 78, 82, 79, 81, 84. Conduct an F-test at the 1% significance level to determine if the variances are significantly different."
   ]
  },
  {
   "cell_type": "code",
   "execution_count": 13,
   "id": "2d25741a-4475-4bcf-8f80-764ab0b92ae3",
   "metadata": {},
   "outputs": [
    {
     "name": "stdout",
     "output_type": "stream",
     "text": [
      "Fail to reject the null hypothesis. Variances are not significantly different.\n"
     ]
    }
   ],
   "source": [
    "Group_A = [80, 85, 90, 92, 87, 83]\n",
    "Group_B = [75, 78, 82, 79, 81, 84]\n",
    "\n",
    "alpha = 0.01\n",
    "\n",
    "df1 = len(Group_A) - 1\n",
    "df2 = len(Group_B) - 1\n",
    "\n",
    "f_test =  np.var(Group_A)/np.var(Group_B)\n",
    "\n",
    "critical_Value = stats.f.ppf(1-alpha, df1, df2)\n",
    "\n",
    "if f_value > critical_value:\n",
    "    print(\"Reject the null hypothesis. Variances are significantly different.\")\n",
    "else:\n",
    "    print(\"Fail to reject the null hypothesis. Variances are not significantly different.\")"
   ]
  },
  {
   "cell_type": "code",
   "execution_count": null,
   "id": "2e2b0d1d-8e88-48b3-a304-dd9fb35424f9",
   "metadata": {},
   "outputs": [],
   "source": []
  }
 ],
 "metadata": {
  "kernelspec": {
   "display_name": "Python 3 (ipykernel)",
   "language": "python",
   "name": "python3"
  },
  "language_info": {
   "codemirror_mode": {
    "name": "ipython",
    "version": 3
   },
   "file_extension": ".py",
   "mimetype": "text/x-python",
   "name": "python",
   "nbconvert_exporter": "python",
   "pygments_lexer": "ipython3",
   "version": "3.10.8"
  }
 },
 "nbformat": 4,
 "nbformat_minor": 5
}
