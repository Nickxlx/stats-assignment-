{
 "cells": [
  {
   "cell_type": "markdown",
   "id": "bf5d4b5c-1dd7-4d46-92aa-056803eae4e2",
   "metadata": {},
   "source": [
    "Q1. What is the Probability density function?\n",
    "\n",
    "Answer--> A probability density function works on continous distribution random variable . it represents the probablity of the random variable falling under certain range of values   \n",
    "\n",
    "example :- Height of students in a class. "
   ]
  },
  {
   "cell_type": "code",
   "execution_count": null,
   "id": "23ba6fa6-40d1-44d7-a22b-3919d6c6937c",
   "metadata": {},
   "outputs": [],
   "source": []
  },
  {
   "cell_type": "code",
   "execution_count": null,
   "id": "e46a6f55-c601-4872-9ac5-8397db3838db",
   "metadata": {},
   "outputs": [],
   "source": []
  },
  {
   "cell_type": "markdown",
   "id": "1e8f90c6-6c01-4331-8af9-cbbc84e98c4a",
   "metadata": {},
   "source": [
    "Q2. What are the types of Probability distribution?\n",
    "\n",
    "Answer--> There are majorly three types of probability distribution function -\n",
    "\n",
    "1 Probability distribution function (pdf):\n",
    "\n",
    "    A probability density function works on continous distribution random variable .\n",
    "\n",
    "    It represents the probablity of the random variable falling under certain range of values .  \n",
    "\n",
    "    The PDF is non-negative for all values of the random variable, and the total area under the curve is equal to 1.\n",
    "\n",
    "example :- Height of students in a class. \n",
    "\n",
    "2 Probabilty mass function (pmf): \n",
    "\n",
    "    A PMF is used to describe discrete random variables.\n",
    "\n",
    "    The PMF gives the probability that the random variable takes on a particular value.\n",
    "\n",
    "    The sum of all probabilities in the PMF is equal to 1.\n",
    "    \n",
    "example : Rolling a dice . \n",
    "\n",
    "3 CDF (Cumulative Distribution Function):\n",
    "\n",
    "    The CDF is the cumulative version of the PDF.\n",
    "    \n",
    "    It gives the probability that a random variable takes on a value less than or equal to a given value.\n",
    "\n",
    "    The CDF provides a cumulative probability distribution over the entire range of the random variable.\n",
    "    \n",
    "    It starts at 0 and ends at 1, and it is a non-decreasing function\n"
   ]
  },
  {
   "cell_type": "code",
   "execution_count": null,
   "id": "103f887d-29f4-459c-97ac-b16b14473c17",
   "metadata": {},
   "outputs": [],
   "source": []
  },
  {
   "cell_type": "code",
   "execution_count": null,
   "id": "431a95c0-690e-44ce-90cb-e0b563856f69",
   "metadata": {},
   "outputs": [],
   "source": []
  },
  {
   "cell_type": "markdown",
   "id": "4a853615-554b-4d59-a965-46893af9d6dc",
   "metadata": {},
   "source": [
    "Q3. Write a Python function to calculate the probability density function of a normal distribution with given mean and standard deviation at a given point."
   ]
  },
  {
   "cell_type": "code",
   "execution_count": 1,
   "id": "7c468370-9093-4342-ad74-bf809de76fb2",
   "metadata": {},
   "outputs": [
    {
     "name": "stdout",
     "output_type": "stream",
     "text": [
      "0.12098536225957168\n"
     ]
    }
   ],
   "source": [
    "from scipy import stats\n",
    "\n",
    "def normal_pdf(x, mean, std_dev):\n",
    "    # Calculate the PDF of the normal distribution at the given point x\n",
    "    pdf = stats.norm.pdf(x, loc=mean, scale=std_dev)\n",
    "    return pdf\n",
    "\n",
    "# Test the function with sample data\n",
    "mean = 5\n",
    "std_dev = 2\n",
    "x = 7\n",
    "\n",
    "pdf_value = normal_pdf(x, mean, std_dev)\n",
    "print(pdf_value)"
   ]
  },
  {
   "cell_type": "code",
   "execution_count": null,
   "id": "cb774628-fdcf-4bb6-a69e-21dca572387e",
   "metadata": {},
   "outputs": [],
   "source": []
  },
  {
   "cell_type": "code",
   "execution_count": null,
   "id": "fae1c9ea-15c0-4087-b368-1732bd6da8c3",
   "metadata": {},
   "outputs": [],
   "source": []
  },
  {
   "cell_type": "markdown",
   "id": "ff97770b-db8d-4e27-9582-9e78acf346f0",
   "metadata": {},
   "source": [
    "Q4. What are the properties of Binomial distribution? Give two examples of events where binomial distribution can be applied.\n",
    "\n",
    "Answer-->  The properties of the Binomial distribution are as follows:\n",
    "\n",
    "       1  Fixed independent trails \n",
    "        \n",
    "       2 Each trial have only two outputs (success, failure)\n",
    "        \n",
    "       3  use discrite random variables\n",
    "               \n",
    "example:- \n",
    "\n",
    "          1 tossing a coin 20 times\n",
    "\n",
    "          2 rolling a dice 10 times"
   ]
  },
  {
   "cell_type": "code",
   "execution_count": null,
   "id": "5fdd2c42-1d57-4b83-a2a4-94cd45f7a2ab",
   "metadata": {},
   "outputs": [],
   "source": []
  },
  {
   "cell_type": "code",
   "execution_count": null,
   "id": "5bc1764f-4e08-4852-844e-7993cde7ca16",
   "metadata": {},
   "outputs": [],
   "source": []
  },
  {
   "cell_type": "markdown",
   "id": "409b655a-9738-4306-853b-704a96bdca00",
   "metadata": {},
   "source": [
    "Q5. Generate a random sample of size 1000 from a binomial distribution with probability of success 0.4 and plot a histogram of the results using matplotlib.\n"
   ]
  },
  {
   "cell_type": "code",
   "execution_count": 2,
   "id": "890c1625-9b6a-4ffb-8a06-00107175aeda",
   "metadata": {},
   "outputs": [
    {
     "data": {
      "image/png": "[encoded data removed]",
      "text/plain": [
       "<Figure size 640x480 with 1 Axes>"
      ]
     },
     "metadata": {},
     "output_type": "display_data"
    }
   ],
   "source": [
    "import numpy as np\n",
    "import matplotlib.pyplot as plt\n",
    "\n",
    "# Set the parameters\n",
    "n = 1000  # Sample size\n",
    "p = 0.4   # Probability of success\n",
    "\n",
    "# Generate the random sample\n",
    "sample = np.random.binomial(1, p, size=n)\n",
    "\n",
    "# Plot the histogram\n",
    "plt.hist(sample, bins=2, edgecolor='black')\n",
    "plt.xlabel('Success (1) or Failure (0)')\n",
    "plt.ylabel('Frequency')\n",
    "plt.title('Histogram of Binomial Distribution')\n",
    "plt.show()"
   ]
  },
  {
   "cell_type": "code",
   "execution_count": null,
   "id": "1d696d32-656d-4916-89d9-219807b33ec1",
   "metadata": {},
   "outputs": [],
   "source": []
  },
  {
   "cell_type": "code",
   "execution_count": null,
   "id": "4d893a7c-029e-4cef-91b8-9ecfea05663c",
   "metadata": {},
   "outputs": [],
   "source": []
  },
  {
   "cell_type": "markdown",
   "id": "2671d94e-12ba-4a8f-8cf0-7c62d9313d31",
   "metadata": {},
   "source": [
    "Q6. Write a Python function to calculate the cumulative distribution function of a Poisson distribution with given mean at a given point."
   ]
  },
  {
   "cell_type": "code",
   "execution_count": 3,
   "id": "86f68dde-b59e-4c8b-b6d8-6e9915483a28",
   "metadata": {},
   "outputs": [
    {
     "name": "stdout",
     "output_type": "stream",
     "text": [
      "CDF: 0.7575761331330659\n"
     ]
    }
   ],
   "source": [
    "import math\n",
    "\n",
    "def poisson_cdf(mean, k):\n",
    "    cdf = 0.0\n",
    "    for i in range(k + 1):\n",
    "        cdf += (math.exp(-mean) * (mean ** i)) / math.factorial(i)\n",
    "    return cdf\n",
    "\n",
    "# Test the function with sample data\n",
    "mean = 2.5\n",
    "k = 3\n",
    "cdf = poisson_cdf(mean, k)\n",
    "print(\"CDF:\", cdf)"
   ]
  },
  {
   "cell_type": "code",
   "execution_count": null,
   "id": "0f707044-d7eb-4a54-84ba-2cf42cff53f7",
   "metadata": {},
   "outputs": [],
   "source": []
  },
  {
   "cell_type": "code",
   "execution_count": null,
   "id": "9c7ee6d9-b098-4670-944e-2bb871526a8c",
   "metadata": {},
   "outputs": [],
   "source": []
  },
  {
   "cell_type": "markdown",
   "id": "011e37a4-6e64-49ce-a2bd-988de553550d",
   "metadata": {},
   "source": [
    "Q7. How Binomial distribution different from Poisson distribution?\n",
    "\n",
    "Answer-->  The binomial distribution is used when we have a fixed number of independent trials with a constant probability of success\n",
    "\n",
    "while the Poisson distribution is used when we are interested in the number of events occurring in a fixed interval with a known or estimated average rate."
   ]
  },
  {
   "cell_type": "code",
   "execution_count": null,
   "id": "4e30eb7b-98bf-46b9-8156-6dd9ce5497f3",
   "metadata": {},
   "outputs": [],
   "source": []
  },
  {
   "cell_type": "code",
   "execution_count": null,
   "id": "53e49dd3-c6db-4e23-aaf1-dcf4021ccfca",
   "metadata": {},
   "outputs": [],
   "source": []
  },
  {
   "cell_type": "markdown",
   "id": "c4394f7b-be94-4af6-bb84-07058a2eac81",
   "metadata": {},
   "source": [
    "Q8. Generate a random sample of size 1000 from a Poisson distribution with mean 5 and calculate the sample mean and variance."
   ]
  },
  {
   "cell_type": "code",
   "execution_count": 7,
   "id": "bd2c330c-9824-46ff-92ca-c2e19fbc9f2a",
   "metadata": {},
   "outputs": [
    {
     "name": "stdout",
     "output_type": "stream",
     "text": [
      "Sample mean :  5.005\n",
      "Sample variance :  5.3469750000000005\n"
     ]
    }
   ],
   "source": [
    "import numpy as np\n",
    "\n",
    "lemda = 5\n",
    "sample = np.random.poisson(lemda, size = 1000 )\n",
    "\n",
    "sam_mean = np.mean(sample)\n",
    "sam_var = np.var(sample) \n",
    "\n",
    "print(\"Sample mean : \", sam_mean)\n",
    "print(\"Sample variance : \", sam_var)"
   ]
  },
  {
   "cell_type": "code",
   "execution_count": null,
   "id": "377c5f50-74ab-4f48-805d-84dd938baf71",
   "metadata": {},
   "outputs": [],
   "source": []
  },
  {
   "cell_type": "markdown",
   "id": "e3914fa5-21b0-4087-a0d1-27adb64420aa",
   "metadata": {},
   "source": [
    "Q9. How mean and variance are related in Binomial distribution and Poisson distribution?\n",
    "\n",
    "Answer--> In both the Binomial and Poisson distributions, the mean and variance are related, but the nature of the relationship differs.\n",
    "\n",
    "1. Binomial Distribution:\n",
    "   - Mean: For a binomial distribution with parameters n (number of trials) and p (probability of success), the mean (μ) is given by μ = n * p.\n",
    "   - Variance: The variance (σ^2) of a binomial distribution is given by σ^2 = n * p * (1 - p).\n",
    "\n",
    "   In the binomial distribution, the variance is directly influenced by both the number of trials (n) and the probability of success (p). As the number of trials or the probability of success increases, the variance also increases.\n",
    "\n",
    "2. Poisson Distribution:\n",
    "   - Mean: For a Poisson distribution, the mean (μ) is equal to the parameter λ, which represents the average rate or intensity of events occurring in a fixed interval of time or space.\n",
    "   - Variance: The variance (σ^2) of a Poisson distribution is also equal to the parameter λ.\n",
    "\n",
    "   In the Poisson distribution, the mean and variance are equal. the variance is solely determined by the mean (or the average rate).\n"
   ]
  },
  {
   "cell_type": "code",
   "execution_count": null,
   "id": "fdfdb302-ed84-4873-8f30-bb3548ef1c10",
   "metadata": {},
   "outputs": [],
   "source": []
  },
  {
   "cell_type": "code",
   "execution_count": null,
   "id": "5f8a100e-a9d7-4142-9c97-ec34270d2d9c",
   "metadata": {},
   "outputs": [],
   "source": []
  },
  {
   "cell_type": "markdown",
   "id": "c57274b7-9a6f-41a5-afd0-b70a710dcff0",
   "metadata": {},
   "source": [
    "Q10. In normal distribution with respect to mean position, where does the least frequent data appear?\n",
    "\n",
    "Answer--> Since the normal distribution is symmetric, the data points become less frequent as they move away from the mean in both directions. Therefore, the least frequent data appears at the tails of the distribution, farthest from the mean."
   ]
  },
  {
   "cell_type": "code",
   "execution_count": null,
   "id": "c6760a64-51c6-47a4-9572-2ad912ba9119",
   "metadata": {},
   "outputs": [],
   "source": []
  }
 ],
 "metadata": {
  "kernelspec": {
   "display_name": "Python 3 (ipykernel)",
   "language": "python",
   "name": "python3"
  },
  "language_info": {
   "codemirror_mode": {
    "name": "ipython",
    "version": 3
   },
   "file_extension": ".py",
   "mimetype": "text/x-python",
   "name": "python",
   "nbconvert_exporter": "python",
   "pygments_lexer": "ipython3",
   "version": "3.10.8"
  }
 },
 "nbformat": 4,
 "nbformat_minor": 5
}
