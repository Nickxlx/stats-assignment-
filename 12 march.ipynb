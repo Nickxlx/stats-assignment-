{
 "cells": [
  {
   "cell_type": "markdown",
   "id": "83c16eab-6bea-4d24-88ff-a22164f5100e",
   "metadata": {},
   "source": [
    "Q1. Calculate the 95% confidence interval for a sample of data with a mean of 50 and a standard deviation of 5 using Python. Interpret the results."
   ]
  },
  {
   "cell_type": "code",
   "execution_count": 1,
   "id": "52ff251f-00d8-4c12-b31d-cfe490865226",
   "metadata": {},
   "outputs": [
    {
     "name": "stdout",
     "output_type": "stream",
     "text": [
      "Confidence Interval: (49.02001800772997, 50.97998199227003)\n"
     ]
    }
   ],
   "source": [
    "import scipy.stats as stats\n",
    "\n",
    "sample_mean = 50\n",
    "sample_std = 5\n",
    "sample_size = 100\n",
    "\n",
    "confidence_level = 0.95\n",
    "alpha = 1-0.95\n",
    "\n",
    "# Calculate the standard error\n",
    "standard_error = sample_std / (sample_size ** 0.5)\n",
    "\n",
    "# Calculate the margin of error\n",
    "margin_of_error = stats.norm.ppf(1- alpha/ 2) * standard_error\n",
    "\n",
    "# Calculate the confidence interval\n",
    "lower_limit = sample_mean - margin_of_error\n",
    "upper_limit = sample_mean + margin_of_error\n",
    "\n",
    "# Print the confidence interval\n",
    "print(\"Confidence Interval:\", (lower_limit, upper_limit))\n"
   ]
  },
  {
   "cell_type": "code",
   "execution_count": null,
   "id": "8de72164-9424-464d-8e6d-dc7d89d7c3e6",
   "metadata": {},
   "outputs": [],
   "source": []
  },
  {
   "cell_type": "code",
   "execution_count": null,
   "id": "48183518-e354-42f9-9e10-0e621a6d5dd2",
   "metadata": {},
   "outputs": [],
   "source": []
  },
  {
   "cell_type": "markdown",
   "id": "2f65a09a-0560-4b71-9548-cf1f66e1eeec",
   "metadata": {},
   "source": [
    "Q2. Conduct a chi-square goodness of fit test to determine if the distribution of colors of M&Ms in a bag matches the expected distribution of 20% blue, 20% orange, 20% green, 10% yellow, 10% red, and 20%\n",
    "brown. Use Python to perform the test with a significance level of 0.05."
   ]
  },
  {
   "cell_type": "code",
   "execution_count": 2,
   "id": "ee8e9630-4374-4bba-b422-80416e27c965",
   "metadata": {},
   "outputs": [
    {
     "name": "stdout",
     "output_type": "stream",
     "text": [
      "Chi-square statistic: 3.9000000000000004\n",
      "c-value: 11.070497693516351\n",
      "The distribution of colors of M&Ms in the bag does match the expected distribution.\n"
     ]
    }
   ],
   "source": [
    "import numpy as np\n",
    "import scipy.stats as stats\n",
    "\n",
    "# Set the expected distribution of colors\n",
    "expected_distribution = [20, 20, 20, 10, 10, 20]\n",
    "\n",
    "# Observed distribution of colors\n",
    "observed_distribution = [23, 18, 17, 12, 14, 16]\n",
    "\n",
    "# Calculate the chi-square statistic\n",
    "chi_square_statistic, p_value = stats.chisquare(observed_distribution, expected_distribution)\n",
    "\n",
    "# Calculate the p-value\n",
    "c_value = stats.chi2.ppf(1- 0.05, len(expected_distribution) - 1)\n",
    "\n",
    "# Print the results\n",
    "print(\"Chi-square statistic:\", chi_square_statistic)\n",
    "print(\"c-value:\", c_value)\n",
    "\n",
    "# Interpretation\n",
    "# If the p-value is less than or equal to the significance level, then we reject the null hypothesis and conclude that the distribution of colors of M&Ms in the bag does not match the expected distribution.\n",
    "\n",
    "if chi_square_statistic > c_value:\n",
    "    print(\"The distribution of colors of M&Ms in the bag does not match the expected distribution.\")\n",
    "else:\n",
    "    print(\"The distribution of colors of M&Ms in the bag does match the expected distribution.\")\n"
   ]
  },
  {
   "cell_type": "code",
   "execution_count": null,
   "id": "3ad0180e-8227-43ec-af18-44c28e761fc4",
   "metadata": {},
   "outputs": [],
   "source": []
  },
  {
   "cell_type": "code",
   "execution_count": null,
   "id": "7d50ffcc-d4d4-4cac-bd2e-68cb87202d78",
   "metadata": {},
   "outputs": [],
   "source": []
  },
  {
   "cell_type": "markdown",
   "id": "a88ea44e-fd21-44e2-8768-eddb8fdf0599",
   "metadata": {},
   "source": [
    "Q3. Use Python to calculate the chi-square statistic and p-value for a contingency table with the following\n",
    "data:\n",
    " \n",
    "             Group A  Group B\n",
    "    Outcome1    20    15\n",
    "    Outcome2    10    25\n",
    "    Outcome3    15    20\n",
    "\n",
    "Interpret the results of the test."
   ]
  },
  {
   "cell_type": "code",
   "execution_count": 3,
   "id": "14097613-f79c-4aad-9f28-84402b3e6285",
   "metadata": {
    "tags": []
   },
   "outputs": [
    {
     "name": "stdout",
     "output_type": "stream",
     "text": [
      "There is no evidence of a significant association between the groups and outcomes.\n",
      "\n",
      "Chi-square statistic: 5.833333333333334\n",
      "Degrees of freedom: 2\n",
      "Expected frequencies: [[15. 20.]\n",
      " [15. 20.]\n",
      " [15. 20.]]\n",
      "P-value: 0.05411376622282158\n"
     ]
    }
   ],
   "source": [
    "import scipy.stats as stats\n",
    "import numpy as np\n",
    "\n",
    "# Create the contingency table\n",
    "observed = np.array([[20, 15], [10, 25], [15, 20]])\n",
    "\n",
    "# Perform the chi-square test of independence\n",
    "chi2, p_value, dof, expected = stats.chi2_contingency(observed)\n",
    "\n",
    "# Set the significance level\n",
    "significance_level = 0.05\n",
    "\n",
    "# Compare the p-value with the significance level\n",
    "if p_value < significance_level:\n",
    "    print(\"There is evidence of a significant association between the groups and outcomes.\")\n",
    "else:\n",
    "    print(\"There is no evidence of a significant association between the groups and outcomes.\")\n",
    "print()\n",
    "print(\"Chi-square statistic:\", chi2)\n",
    "print(\"Degrees of freedom:\", dof)\n",
    "print(\"Expected frequencies:\", expected)\n",
    "print(\"P-value:\", p_value)"
   ]
  },
  {
   "cell_type": "code",
   "execution_count": null,
   "id": "d3dd8dd4-97cf-4302-95b6-fbfd89317182",
   "metadata": {},
   "outputs": [],
   "source": []
  },
  {
   "cell_type": "code",
   "execution_count": null,
   "id": "825fda4c-5659-4958-9cf0-dbae95b29b40",
   "metadata": {},
   "outputs": [],
   "source": []
  },
  {
   "cell_type": "markdown",
   "id": "84469620-f926-4cbe-9c19-53948d6da55a",
   "metadata": {},
   "source": [
    "Q4. A study of the prevalence of smoking in a population of 500 individuals found that 60 individuals\n",
    "smoked. Use Python to calculate the 95% confidence interval for the true proportion of individuals in the population who smoke."
   ]
  },
  {
   "cell_type": "code",
   "execution_count": 4,
   "id": "9ed1a227-711c-4a83-8067-a490bca10be0",
   "metadata": {
    "tags": []
   },
   "outputs": [
    {
     "name": "stdout",
     "output_type": "stream",
     "text": [
      "The 95% confidence interval for the true proportion of smokers in the population is:\n",
      "Lower limit: 0.09151638887130707\n",
      "Upper limit: 0.1484836111286929\n"
     ]
    }
   ],
   "source": [
    "import scipy.stats as stats\n",
    "\n",
    "sample_size = 500\n",
    "observed_smokers = 60\n",
    "\n",
    "# Calculate the proportion of smokers in the sample\n",
    "sample_proportion = observed_smokers / sample_size\n",
    "\n",
    "# Calculate the standard error of the proportion\n",
    "standard_error = (sample_proportion * (1 - sample_proportion) / sample_size) ** 0.5\n",
    "\n",
    "# Set the confidence level\n",
    "confidence_level = 0.95\n",
    "\n",
    "# Calculate the z-score for the desired confidence level\n",
    "z_score = stats.norm.ppf(1 - 0.05/2)\n",
    "\n",
    "# Calculate the margin of error\n",
    "margin_of_error = z_score * standard_error\n",
    "\n",
    "# Calculate the lower and upper bounds of the confidence interval\n",
    "lower_limit = sample_proportion - margin_of_error\n",
    "upper_limit = sample_proportion + margin_of_error\n",
    "\n",
    "# Print the confidence interval\n",
    "print(\"The 95% confidence interval for the true proportion of smokers in the population is:\")\n",
    "print(\"Lower limit:\", lower_limit)\n",
    "print(\"Upper limit:\", upper_limit)\n"
   ]
  },
  {
   "cell_type": "code",
   "execution_count": null,
   "id": "bc9a2000-35ea-4fbf-8d40-048e95d82cf8",
   "metadata": {},
   "outputs": [],
   "source": []
  },
  {
   "cell_type": "code",
   "execution_count": null,
   "id": "944ea8c6-8549-4319-b4ed-81e859291b27",
   "metadata": {},
   "outputs": [],
   "source": []
  },
  {
   "cell_type": "markdown",
   "id": "e03e9d25-cbf6-4baa-b583-54b617127ec1",
   "metadata": {},
   "source": [
    "Q5. Calculate the 90% confidence interval for a sample of data with a mean of 75 and a standard deviation of 12 using Python. Interpret the results."
   ]
  },
  {
   "cell_type": "code",
   "execution_count": 5,
   "id": "3ef08f13-54a6-43ca-a533-81e9616d7be3",
   "metadata": {
    "tags": []
   },
   "outputs": [
    {
     "name": "stdout",
     "output_type": "stream",
     "text": [
      "The 90% confidence inteval is :  (73.02617564765823, 76.97382435234177)\n"
     ]
    }
   ],
   "source": [
    "import scipy.stats as stats\n",
    "\n",
    "# given\n",
    "sample_mean = 75\n",
    "sample_std = 12\n",
    "sample_size = 100 # (assuming it )\n",
    "confidance_interval = 0.90\n",
    "alpha = 1-0.90\n",
    "\n",
    "stander_error = sample_std/(sample_size**0.5)\n",
    "\n",
    "z_score = stats.norm.ppf(1- alpha/ 2) # Calculate the z-score\n",
    "\n",
    "margin_error = z_score * stander_error\n",
    "\n",
    "lower_limit = sample_mean - margin_error\n",
    "upper_limit = sample_mean + margin_error\n",
    "\n",
    "confidence_interval = (lower_limit, upper_limit)\n",
    "print(\"The 90% confidence inteval is : \", confidence_interval)"
   ]
  },
  {
   "cell_type": "code",
   "execution_count": null,
   "id": "1ef6ad91-074d-4df2-be8b-e12472c81bef",
   "metadata": {},
   "outputs": [],
   "source": []
  },
  {
   "cell_type": "code",
   "execution_count": null,
   "id": "fd877970-2733-4698-bb66-4476f5a70c56",
   "metadata": {},
   "outputs": [],
   "source": []
  },
  {
   "cell_type": "markdown",
   "id": "4e7646d4-6a55-4300-a279-9564f809693c",
   "metadata": {},
   "source": [
    "Q6. Use Python to plot the chi-square distribution with 10 degrees of freedom. Label the axes and shade the area corresponding to a chi-square statistic of 15."
   ]
  },
  {
   "cell_type": "code",
   "execution_count": 6,
   "id": "0e99c3ca-29b7-445b-ab43-464dc5c3fa74",
   "metadata": {
    "tags": []
   },
   "outputs": [
    {
     "data": {
      "image/png": "[encoded data removed]",
      "text/plain": [
       "<Figure size 640x480 with 1 Axes>"
      ]
     },
     "metadata": {},
     "output_type": "display_data"
    }
   ],
   "source": [
    "import numpy as np\n",
    "import matplotlib.pyplot as plt\n",
    "import scipy.stats as stats\n",
    "\n",
    "# Define the degrees of freedom\n",
    "df = 10\n",
    "\n",
    "# Generate x values for the chi-square distribution\n",
    "x = np.linspace(0, 30, 500)\n",
    "\n",
    "# Calculate the y values (probability density function) for the chi-square distribution\n",
    "y = stats.chi2.pdf(x, df)\n",
    "\n",
    "# Create the plot\n",
    "plt.plot(x, y, 'b-', label='Chi-square (df=10)')\n",
    "\n",
    "# Shade the area corresponding to a chi-square statistic of 15\n",
    "x_shade = np.linspace(15, 30, 100)\n",
    "y_shade = stats.chi2.pdf(x_shade, df)\n",
    "plt.fill_between(x_shade, y_shade, color='lightblue', alpha=0.5)\n",
    "\n",
    "# Label the axes\n",
    "plt.xlabel('Chi-square statistic')\n",
    "plt.ylabel('Probability density')\n",
    "\n",
    "# Add a legend\n",
    "plt.legend()\n",
    "\n",
    "# Show the plot\n",
    "plt.show()"
   ]
  },
  {
   "cell_type": "code",
   "execution_count": null,
   "id": "c42f7738-3059-49ac-b30d-d3d1dd1ec4f1",
   "metadata": {},
   "outputs": [],
   "source": []
  },
  {
   "cell_type": "code",
   "execution_count": null,
   "id": "12615c0d-a1b3-4ad2-b165-c6b8a6f88296",
   "metadata": {},
   "outputs": [],
   "source": []
  },
  {
   "cell_type": "markdown",
   "id": "1b81ea80-ee14-40d7-89f5-b27aeb4cf33c",
   "metadata": {},
   "source": [
    "Q7. A random sample of 1000 people was asked if they preferred Coke or Pepsi. Of the sample, 520\n",
    "preferred Coke. Calculate a 99% confidence interval for the true proportion of people in the population who\n",
    "prefer Coke."
   ]
  },
  {
   "cell_type": "code",
   "execution_count": 7,
   "id": "4e0b131d-493d-4c53-a99a-73917b013bb9",
   "metadata": {
    "tags": []
   },
   "outputs": [
    {
     "name": "stdout",
     "output_type": "stream",
     "text": [
      "99% confidence interval for the true proportion of people in the population who prefer Coke is : 519.9593051576779 520.0406948423221\n"
     ]
    }
   ],
   "source": [
    "n = 1000\n",
    "x = 520\n",
    "\n",
    "confidence_interval = 0.99\n",
    "alpha = 1- 0.99\n",
    "sample_proportion = x/n\n",
    "\n",
    "stander_error = ((sample_proportion*(1 - sample_proportion))/n)**0.5 \n",
    "\n",
    "z_score = stats.norm.ppf(1- alpha/ 2)\n",
    "margin_error = z_score*stander_error\n",
    "\n",
    "lower_limit = x -margin_error\n",
    "upper_limit = x + margin_error\n",
    "\n",
    "print(\"99% confidence interval for the true proportion of people in the population who prefer Coke is :\", lower_limit, upper_limit)"
   ]
  },
  {
   "cell_type": "code",
   "execution_count": null,
   "id": "c04f9b84-eac9-41d2-b35c-1c763d865cc2",
   "metadata": {},
   "outputs": [],
   "source": []
  },
  {
   "cell_type": "code",
   "execution_count": null,
   "id": "3e07f611-d7df-456e-bd94-a65b565e2e0c",
   "metadata": {},
   "outputs": [],
   "source": []
  },
  {
   "cell_type": "markdown",
   "id": "15797f49-da0c-4139-ac1d-b4b310f9fa2f",
   "metadata": {},
   "source": [
    "Q8. A researcher hypothesizes that a coin is biased towards tails. They flip the coin 100 times and observe\n",
    "45 tails. Conduct a chi-square goodness of fit test to determine if the observed frequencies match the\n",
    "expected frequencies of a fair coin. Use a significance level of 0.05."
   ]
  },
  {
   "cell_type": "code",
   "execution_count": 8,
   "id": "3814b0ec-f848-4dc9-98af-e0b6c829eb0b",
   "metadata": {
    "tags": []
   },
   "outputs": [
    {
     "name": "stdout",
     "output_type": "stream",
     "text": [
      "Chi-square statistic: 1.0\n",
      "P-value: 0.31731050786291115\n",
      "Critical value: 3.841458820694124\n",
      "Fail to reject the null hypothesis. The coin is fair and unbiased.\n"
     ]
    }
   ],
   "source": [
    "import numpy as np\n",
    "import scipy.stats as stats\n",
    "\n",
    "# Observed frequencies\n",
    "observed_frequencies = np.array([45, 55])\n",
    "\n",
    "# Expected frequencies under the assumption of a fair coin\n",
    "expected_frequencies = np.array([50, 50])\n",
    "\n",
    "# Calculate the chi-square statistic and p-value\n",
    "chi_value, p_value = stats.chisquare(observed_frequencies, expected_frequencies)\n",
    "\n",
    "# Define the significance level\n",
    "alpha = 0.05\n",
    "\n",
    "# Determine the critical value\n",
    "critical_value = stats.chi2.ppf(1 - alpha, len(observed_frequencies) - 1)\n",
    "\n",
    "# Print the chi-square statistic, p-value, and critical value\n",
    "print(\"Chi-square statistic:\", chi_value)\n",
    "print(\"P-value:\", p_value)\n",
    "print(\"Critical value:\", critical_value)\n",
    "\n",
    "# Compare the chi-square statistic with the critical value and make a decision\n",
    "if chi_value > critical_value:\n",
    "    print(\"Reject the null hypothesis. The coin is biased towards tails.\")\n",
    "else:\n",
    "    print(\"Fail to reject the null hypothesis. The coin is fair and unbiased.\")"
   ]
  },
  {
   "cell_type": "code",
   "execution_count": null,
   "id": "5a1c5c93-f4bf-443b-a837-88c4eb341999",
   "metadata": {},
   "outputs": [],
   "source": []
  },
  {
   "cell_type": "code",
   "execution_count": null,
   "id": "0f182869-d252-499b-a788-034da3a2cc83",
   "metadata": {},
   "outputs": [],
   "source": []
  },
  {
   "cell_type": "markdown",
   "id": "90ad22d5-93f4-4a63-b885-1878a46aab09",
   "metadata": {
    "tags": []
   },
   "source": [
    "Q9. A study was conducted to determine if there is an association between smoking status (smoker or\n",
    "non-smoker) and lung cancer diagnosis (yes or no). The results are shown in the contingency table below.\n",
    "Conduct a chi-square test for independence to determine if there is a significant association between\n",
    "smoking status and lung cancer diagnosis.\n",
    "\n",
    "             Lung Cancer: Yes   Lung Cancer: No\n",
    "    Smoker             60            140\n",
    "    Non-smoker         30            170\n",
    "    \n",
    "Use a significance level of 0.05."
   ]
  },
  {
   "cell_type": "code",
   "execution_count": 9,
   "id": "ce252285-646a-41ab-a80d-dc57a0555c87",
   "metadata": {
    "tags": []
   },
   "outputs": [
    {
     "name": "stdout",
     "output_type": "stream",
     "text": [
      "Reject the null hypothesis. There is a significant association between smoking status and lung cancer diagnosis.\n",
      "Chi-square statistic: 12.0573\n",
      "Degrees of freedom: 1\n",
      "p-value: 0.0005\n"
     ]
    }
   ],
   "source": [
    "import scipy.stats as stats\n",
    "import numpy as np\n",
    "\n",
    "# Create the observed contingency table\n",
    "observed = np.array([[60, 140], [30, 170]])\n",
    "\n",
    "# Perform the chi-square test for independence\n",
    "chi2_stat, p_value, dof, expected = stats.chi2_contingency(observed)\n",
    "\n",
    "significance_level = 0.05\n",
    "\n",
    "# Compare the p-value with the significance level\n",
    "if p_value < significance_level:\n",
    "    print(\"Reject the null hypothesis. There is a significant association between smoking status and lung cancer diagnosis.\")\n",
    "else:\n",
    "    print(\"Fail to reject the null hypothesis. There is no significant association between smoking status and lung cancer diagnosis.\")\n",
    "\n",
    "# Print the chi-square statistic, degrees of freedom, and p-value\n",
    "print(f\"Chi-square statistic: {chi2_stat:.4f}\")\n",
    "print(f\"Degrees of freedom: {dof}\")\n",
    "print(f\"p-value: {p_value:.4f}\")\n"
   ]
  },
  {
   "cell_type": "code",
   "execution_count": null,
   "id": "29ea461b-f595-4653-9665-d48ef9c337c5",
   "metadata": {},
   "outputs": [],
   "source": []
  },
  {
   "cell_type": "code",
   "execution_count": null,
   "id": "9382e909-fd93-42a6-bdf3-6855f952947c",
   "metadata": {},
   "outputs": [],
   "source": []
  },
  {
   "cell_type": "markdown",
   "id": "4b807ca9-597f-4a46-a5d8-cb7f2d310965",
   "metadata": {
    "tags": []
   },
   "source": [
    "chi2_contingencychi2_contingencychi2_contingencychi2_contingencychi2_contingencychi2_contingencychi2_contingencyQ10. A study was conducted to determine if the proportion of people who prefer milk chocolate, dark\n",
    "chocolate, or white chocolate is different in the U.S. versus the U.K. A random sample of 500 people from\n",
    "the U.S. and a random sample of 500 people from the U.K. were surveyed. The results are shown in the\n",
    "contingency table below. Conduct a chi-square test for independence to determine if there is a significant\n",
    "association between chocolate preference and country of origin.\n",
    "\n",
    "              Milk Chocolate     Dark Chocolate     White Chocolate\n",
    "\n",
    "    U.S. (n=500)       200              150             150\n",
    "    U.K. (n=500)       225              175             100 \n",
    "    \n",
    "Use a significance level of 0.01."
   ]
  },
  {
   "cell_type": "code",
   "execution_count": 10,
   "id": "c4ece332-4c99-406d-a69d-fcf4b77692ae",
   "metadata": {
    "tags": []
   },
   "outputs": [
    {
     "name": "stdout",
     "output_type": "stream",
     "text": [
      "Reject NUll hupothesis , here is a significant association between chocolate preference and country of origin.\n",
      "Chi-square statistic: 13.3937\n",
      "Degrees of freedom: 2\n",
      "p-value: 0.0012\n"
     ]
    }
   ],
   "source": [
    "# Create the observed contingency table\n",
    "observed = np.array([[200, 150, 150], [225, 175, 100]])\n",
    "\n",
    "# Perform the chi-square test for independence\n",
    "chi_stat , p_value, dof, expected = stats.chi2_contingency(observed)\n",
    "\n",
    "alpha = 0.01\n",
    "\n",
    "# Compare the p-value with the significance level\n",
    "if p_value < alpha :\n",
    "    print(\"Reject NUll hupothesis , here is a significant association between chocolate preference and country of origin.\")\n",
    "else:\n",
    "    print(\"Fail to Reject NUll hupothesis , here is not a significant association between chocolate preference and country of origin.\")    \n",
    "\n",
    "# Print the chi-square statistic, degrees of freedom, and p-value\n",
    "print(f\"Chi-square statistic: {chi_stat:.4f}\")\n",
    "print(f\"Degrees of freedom: {dof}\")\n",
    "print(f\"p-value: {p_value:.4f}\")"
   ]
  },
  {
   "cell_type": "code",
   "execution_count": null,
   "id": "20f7f910-b3e1-43ef-9d9a-191df7fa6d56",
   "metadata": {},
   "outputs": [],
   "source": []
  },
  {
   "cell_type": "code",
   "execution_count": null,
   "id": "93c8dfa0-0c02-491c-837d-fd0622d649ce",
   "metadata": {},
   "outputs": [],
   "source": []
  },
  {
   "cell_type": "markdown",
   "id": "d9c9fd3f-8588-40bf-9adc-7e34df5ab166",
   "metadata": {},
   "source": [
    "Q11. A random sample of 30 people was selected from a population with an unknown mean and standard\n",
    "deviation. The sample mean was found to be 72 and the sample standard deviation was found to be 10.\n",
    "Conduct a hypothesis test to determine if the population mean is significantly different from 70. Use a\n",
    "significance level of 0.05."
   ]
  },
  {
   "cell_type": "code",
   "execution_count": 1,
   "id": "78a3d828-2aa3-4fad-8db6-8ddf9e614a7c",
   "metadata": {},
   "outputs": [
    {
     "name": "stdout",
     "output_type": "stream",
     "text": [
      "Fail to reject the null hypothesis. There is not enough evidence to suggest a significant difference in the population mean.\n"
     ]
    }
   ],
   "source": [
    "from scipy.stats import t\n",
    "\n",
    "# Given information\n",
    "sample_mean = 72\n",
    "sample_std = 10\n",
    "population_mean = 70\n",
    "sample_size = 30\n",
    "\n",
    "# Calculate the test statistic\n",
    "t_statistic = (sample_mean - population_mean) / (sample_std / (sample_size ** 0.5))\n",
    "\n",
    "# Determine the degrees of freedom\n",
    "df = sample_size - 1\n",
    "\n",
    "# Set the significance level\n",
    "alpha = 0.05\n",
    "\n",
    "# Calculate the critical t-value\n",
    "critical_value = t.ppf(1 - alpha/2, df)\n",
    "\n",
    "# Compare the calculated test statistic with the critical t-value\n",
    "if abs(t_statistic) > critical_value:\n",
    "    print(\"Reject the null hypothesis. The population mean is significantly different from 70.\")\n",
    "else:\n",
    "    print(\"Fail to reject the null hypothesis. There is not enough evidence to suggest a significant difference in the population mean.\")\n"
   ]
  },
  {
   "cell_type": "code",
   "execution_count": null,
   "id": "6117c8ab-0352-4915-9dc6-e387f6d88f0f",
   "metadata": {},
   "outputs": [],
   "source": []
  }
 ],
 "metadata": {
  "kernelspec": {
   "display_name": "Python 3 (ipykernel)",
   "language": "python",
   "name": "python3"
  },
  "language_info": {
   "codemirror_mode": {
    "name": "ipython",
    "version": 3
   },
   "file_extension": ".py",
   "mimetype": "text/x-python",
   "name": "python",
   "nbconvert_exporter": "python",
   "pygments_lexer": "ipython3",
   "version": "3.10.8"
  }
 },
 "nbformat": 4,
 "nbformat_minor": 5
}
