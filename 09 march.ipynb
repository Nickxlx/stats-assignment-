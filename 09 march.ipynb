{
 "cells": [
  {
   "cell_type": "markdown",
   "id": "4fec8fca-975e-44e2-8c5c-35c9b39c001e",
   "metadata": {},
   "source": [
    "Q1: What are the Probability Mass Function (PMF) and Probability Density Function (PDF)? Explain with an example.\n",
    "\n",
    "Answer--> \n",
    "\n",
    "1. Probability Mass Function (PMF):\n",
    "The PMF is used to describe the probability distribution of a discrete random variable. It gives the probability of each possible outcome or value of the random variable. The PMF assigns a probability to each value in the sample space.\n",
    "\n",
    "Example:\n",
    "Consider a fair six-sided die. The PMF would be defined as follows:\n",
    "\n",
    "PMF(x) = 1/6 for x = 1, 2, 3, 4, 5, 6\n",
    "PMF(x) = 0 for any other value of x\n",
    "\n",
    "2. Probability Density Function (PDF):\n",
    "The PDF is used to describe the probability distribution of a continuous random variable. Unlike the PMF, which assigns probabilities to specific values, the PDF assigns probabilities to intervals or ranges of values. The area under the PDF curve within a given interval represents the probability of the random variable falling within that interval.\n",
    "\n",
    "Example:\n",
    "consider the standard normal distribution, which has a bell-shaped curve. The PDF of the standard normal distribution is a symmetric curve centered at the mean of zero. It describes the relative likelihood of different values occurring."
   ]
  },
  {
   "cell_type": "code",
   "execution_count": null,
   "id": "82d8d080-34f2-4c9b-9aa4-f8ea76352520",
   "metadata": {},
   "outputs": [],
   "source": []
  },
  {
   "cell_type": "code",
   "execution_count": null,
   "id": "2d43b177-2428-4d97-924c-a58b7c0c10d9",
   "metadata": {},
   "outputs": [],
   "source": []
  },
  {
   "cell_type": "markdown",
   "id": "e450481a-abfd-4d9f-91c2-4c8cb1a41f4b",
   "metadata": {},
   "source": [
    "Q2: What is Cumulative Density Function (CDF)? Explain with an example. Why CDF is used?\n",
    "\n",
    "Answer-->  The Cumulative Density Function (CDF) is a statistical function that provides the cumulative probability distribution of a random variable. It gives the probability that a random variable takes on a value less than or equal to a given value.\n",
    "\n",
    "Here's an example to illustrate the CDF. Consider a fair six-sided die. The CDF of this die would give the probability of rolling a number less than or equal to a given value. \n",
    "\n",
    "The CDF would be:\n",
    "CDF(x <= 1) = 1/6\n",
    "CDF(x <= 2) = 2/6\n",
    "CDF(x <= 3) = 3/6\n",
    "CDF(x <= 4) = 4/6\n",
    "CDF(x <= 5) = 5/6\n",
    "CDF(x <= 6) = 6/6 = 1\n",
    "\n",
    "Using the CDF, we can answer questions like \"What is the probability of rolling a number less than or equal to 4?\" The CDF tells us that the probability is 4/6 or 2/3.\n",
    "\n",
    "The CDF is useful in various statistical applications, including hypothesis testing, confidence interval estimation, and determining percentiles of a distribution. It provides a comprehensive view of the distribution and allows for calculations of probabilities and quantiles"
   ]
  },
  {
   "cell_type": "code",
   "execution_count": null,
   "id": "be13abfa-4600-40fa-9305-a31ecf5fee19",
   "metadata": {},
   "outputs": [],
   "source": []
  },
  {
   "cell_type": "code",
   "execution_count": null,
   "id": "c4ab2d68-23cb-4d8d-ab92-a23192032167",
   "metadata": {},
   "outputs": [],
   "source": []
  },
  {
   "cell_type": "markdown",
   "id": "b8581766-fa7f-4177-b488-8e916a8ec4e5",
   "metadata": {},
   "source": [
    "Q3: What are some examples of situations where the normal distribution might be used as a model? Explain how the parameters of the normal distribution relate to the shape of the distribution.\n",
    "\n",
    "Answer-->Here are some examples of situations where the normal distribution might be used as a model:\n",
    "\n",
    "1. Heights of adult humans: The distribution of heights in a population tends to follow a roughly normal distribution, with most people clustering around the average height.\n",
    "\n",
    "2. Measurement errors: When making measurements, random errors can occur, and these errors often follow a normal distribution.\n",
    "\n",
    "3. Test scores: In educational assessments or standardized tests, the distribution of scores among a large group of test-takers often approximates a normal distribution.\n",
    "\n",
    "4. IQ scores: Intelligence quotient (IQ) scores are often assumed to be normally distributed, with a mean of 100 and a standard deviation of 15.\n",
    "\n",
    "The shape of the normal distribution is determined by its parameters: the mean (μ) and the standard deviation (σ). The mean represents the center or average of the distribution, and it determines the location of the peak or highest point on the curve. The standard deviation measures the spread or dispersion of the data around the mean. A smaller standard deviation indicates that the data points are tightly clustered around the mean, resulting in a narrower and taller distribution. Conversely, a larger standard deviation indicates a wider and flatter distribution, with data points more spread out from the mean.\n"
   ]
  },
  {
   "cell_type": "code",
   "execution_count": null,
   "id": "51028f8c-8c7f-45d7-84d2-100c80dc6042",
   "metadata": {},
   "outputs": [],
   "source": []
  },
  {
   "cell_type": "code",
   "execution_count": null,
   "id": "ace6a0c3-3775-44dc-9cbc-4d4acbece621",
   "metadata": {},
   "outputs": [],
   "source": []
  },
  {
   "cell_type": "markdown",
   "id": "b1835d25-d4c7-40fd-a9d1-380c0716273e",
   "metadata": {},
   "source": [
    "Q4: Explain the importance of Normal Distribution. Give a few real-life examples of Normal Distribution.\n",
    "\n",
    "Answer--> The normal distribution plays an important role due to its mathematical properties, its role in the Central Limit Theorem, and its applicability to model and analyze various real-life phenomena.\n",
    "\n",
    "Real-life examples of phenomena that can be approximated by a normal distribution include:\n",
    "\n",
    "    Heights and weights of a large population\n",
    " \n",
    "    Test scores and IQ scores in a large sample\n",
    "    \n",
    "    Daily stock market returns\n",
    "    \n",
    "    Blood pressure measurements in a population\n",
    "    \n",
    "    Annual rainfall in a particular region"
   ]
  },
  {
   "cell_type": "code",
   "execution_count": null,
   "id": "137750f8-5edb-44b1-b3fe-8f8f06f61069",
   "metadata": {},
   "outputs": [],
   "source": []
  },
  {
   "cell_type": "code",
   "execution_count": null,
   "id": "81a94a0e-44c2-4ed6-87af-f0893b30d474",
   "metadata": {},
   "outputs": [],
   "source": []
  },
  {
   "cell_type": "markdown",
   "id": "9435f290-21b6-4bcb-801a-5e311b3022b5",
   "metadata": {},
   "source": [
    "Q5: What is Bernaulli Distribution? Give an Example. What is the difference between Bernoulli Distribution and Binomial Distribution?\n",
    "\n",
    "Answer--> The Bernoulli distribution is a discrete probability distribution that models a single binary outcome with two possible outcomes, typically labeled as \"success\" and \"failure.\" It is named after Jacob Bernoulli, a Swiss mathematician. The Bernoulli distribution is characterized by a single parameter, p, which represents the probability of success.\n",
    "\n",
    "Example: Consider flipping a fair coin, where getting a head is considered a success and getting a tail is considered a failure. The outcome of this experiment can be modeled using a Bernoulli distribution, where p = 0.5 represents the probability of success (getting a head) and q = 1 - p = 0.5 represents the probability of failure (getting a tail).\n",
    "\n",
    "The main difference between the Bernoulli distribution and the binomial distribution lies in the number of trials.The Bernoulli distribution models a single trial or a sequence of independent and identical trials with only two possible outcomes. In contrast, the binomial distribution models the number of successes in a fixed number of independent Bernoulli trials."
   ]
  },
  {
   "cell_type": "code",
   "execution_count": null,
   "id": "29e102fc-2d7e-4794-a4d4-798c208d85be",
   "metadata": {},
   "outputs": [],
   "source": []
  },
  {
   "cell_type": "code",
   "execution_count": null,
   "id": "8d48899a-3802-4b51-acd6-6ed17584fc3a",
   "metadata": {},
   "outputs": [],
   "source": []
  },
  {
   "cell_type": "markdown",
   "id": "87784e59-e402-4b02-9286-28f87e30f543",
   "metadata": {},
   "source": [
    "Q6. Consider a dataset with a mean of 50 and a standard deviation of 10. If we assume that the dataset is normally distributed, what is the probability that a randomly selected observation will be greater\n",
    "than 60? Use the appropriate formula and show your calculations.\n",
    "\n",
    "Given:\n",
    "\n",
    "μ is the mean of the distribution (50 in this case),\n",
    "σ is the standard deviation of the distribution (10 in this case), and\n",
    "\n",
    "x is the value we want to find the probability for (60 in this case),\n",
    "\n",
    "First, let's calculate the z-score for x = 60:\n",
    "z = (60 - 50) / 10\n",
    "z = 10 / 10\n",
    "z = 1\n",
    "\n",
    "Next, we need to find the probability corresponding to this z-score which is  0.8413. We can refer to z-table for it .\n",
    "\n",
    "Using the z-table, the probability that a randomly selected observation from the dataset is greater than 60 is approximately 0.1587.\n",
    "\n",
    "Therefore, the probability that a randomly selected observation will be greater than 60 is approximately 0.1587 or 15.87%."
   ]
  },
  {
   "cell_type": "code",
   "execution_count": null,
   "id": "7cbf898f-b729-4ff9-a01c-53958c2968e2",
   "metadata": {},
   "outputs": [],
   "source": []
  },
  {
   "cell_type": "code",
   "execution_count": null,
   "id": "4c31080b-bfc8-4dbb-8dbb-b740e9f5ca09",
   "metadata": {},
   "outputs": [],
   "source": []
  },
  {
   "cell_type": "markdown",
   "id": "645249d7-938f-4176-a0aa-13118b4975c7",
   "metadata": {},
   "source": [
    "Q7: Explain uniform Distribution with an example.\n",
    "\n",
    "Answer--> Uniform distribution, also known as rectangular distribution, is a probability distribution where all outcomes within a given range are equally likely. In other words, it is a continuous probability distribution with a constant probability density between two limits.\n",
    "\n",
    "An example of a uniform distribution is rolling a fair six-sided die. Each face of the die has an equal probability of 1/6 of landing face up. The outcome of rolling the die follows a uniform distribution because each outcome (1, 2, 3, 4, 5, 6) has the same probability of occurring.\n"
   ]
  },
  {
   "cell_type": "code",
   "execution_count": null,
   "id": "7bc06df7-81ec-43ce-9f83-e9c1bbc08b7a",
   "metadata": {},
   "outputs": [],
   "source": []
  },
  {
   "cell_type": "code",
   "execution_count": null,
   "id": "352cef03-2d74-4f05-bf0c-cbc9d58c8243",
   "metadata": {},
   "outputs": [],
   "source": []
  },
  {
   "cell_type": "markdown",
   "id": "8414ec0e-14e5-4123-83f3-63a15325006d",
   "metadata": {},
   "source": [
    "Q8: What is the z score? State the importance of the z score.\n",
    "\n",
    "Answer--> \n",
    "The z-score, also known as the standard score, is a measure of how many standard deviations an individual data point or observation is from the mean of a distribution. It is calculated by subtracting the mean from the data point and dividing the result by the standard deviation. \n",
    "\n",
    "The formula for calculating the z-score is:\n",
    "        \n",
    "        z = (x - μ) / σ\n",
    "\n",
    "The z-score is an important statistical measure with several key uses and importance:\n",
    "\n",
    "The z-score is a fundamental tool in statistics and data analysis that allows for standardization, comparison, probability estimation, outlier detection, and hypothesis testing. It provides a standardized framework for interpreting and analyzing data across different distributions."
   ]
  },
  {
   "cell_type": "code",
   "execution_count": null,
   "id": "949d2c98-4111-46bf-8dd3-9f9f43132042",
   "metadata": {},
   "outputs": [],
   "source": []
  },
  {
   "cell_type": "code",
   "execution_count": null,
   "id": "d01767b5-855c-4f65-b582-12633f247c6b",
   "metadata": {},
   "outputs": [],
   "source": []
  },
  {
   "cell_type": "markdown",
   "id": "fc05ca28-ad01-4ced-b994-db53fde92450",
   "metadata": {},
   "source": [
    "Q9: What is Central Limit Theorem? State the significance of the Central Limit Theorem.\n",
    "\n",
    "Answer--> Central Limit Theorem (CLT) says that the sampling distribution mean of population distribution will be always normal distribution (bell shaped curve ) as long sample size is large enough. Regardless what ever is the type of the poulation distribution. \n",
    "\n",
    "Central Limit Theorem is significant as it allows us to make assumptions about the sampling distribution of the sample mean, provides a basis for statistical inference and estimation, offers robustness to statistical analyses, and finds practical applications in diverse fields."
   ]
  },
  {
   "cell_type": "code",
   "execution_count": null,
   "id": "f4eb1f88-a28e-4ea7-bb29-c0850aec00a4",
   "metadata": {},
   "outputs": [],
   "source": []
  },
  {
   "cell_type": "code",
   "execution_count": null,
   "id": "fe534efb-8d6b-4f44-bc9a-909776bdba7d",
   "metadata": {},
   "outputs": [],
   "source": []
  },
  {
   "cell_type": "markdown",
   "id": "4a24d7b9-522b-40b7-99c6-cd5f97b17e25",
   "metadata": {},
   "source": [
    "Q10: State the assumptions of the Central Limit Theorem.\n",
    "\n",
    "Answer--> \n",
    "The Central Limit Theorem (CLT) makes several assumptions in order to hold true:\n",
    "\n",
    "    1 Independent and Identically Distributed (IID) Observations: The observations in the sample should be independent of each other and should be drawn from the same population or distribution. This assumption ensures that the observations do not influence each other and are representative of the overall population.\n",
    "\n",
    "    2 Finite Mean and Variance: The population from which the sample is drawn should have a finite mean (μ) and a finite variance (σ^2). This assumption ensures that the population distribution is well-defined and not excessively skewed or heavy-tailed.\n",
    "\n",
    "    3 Sample Size: The CLT assumes that the sample size is sufficiently large. While there is no strict cutoff for the sample size, a general guideline is that the sample size should be greater than or equal to 30. Larger sample sizes generally result in better approximations to a normal distribution.\n",
    "\n",
    "    4 No Extreme Outliers: The CLT assumes that there are no extreme outliers in the sample. Outliers can significantly affect the sample mean and can distort the normality assumption.\n",
    "\n",
    "    5 No Systematic Bias: The observations should not be systematically biased towards a particular outcome. A systematic bias can lead to a non-representative sample and may violate the assumptions of the CLT."
   ]
  },
  {
   "cell_type": "code",
   "execution_count": null,
   "id": "c10032a7-851d-445b-abec-5318ea02a75c",
   "metadata": {},
   "outputs": [],
   "source": []
  },
  {
   "cell_type": "code",
   "execution_count": null,
   "id": "19b2c793-c798-4df7-99eb-fda461021ada",
   "metadata": {},
   "outputs": [],
   "source": []
  }
 ],
 "metadata": {
  "kernelspec": {
   "display_name": "Python 3 (ipykernel)",
   "language": "python",
   "name": "python3"
  },
  "language_info": {
   "codemirror_mode": {
    "name": "ipython",
    "version": 3
   },
   "file_extension": ".py",
   "mimetype": "text/x-python",
   "name": "python",
   "nbconvert_exporter": "python",
   "pygments_lexer": "ipython3",
   "version": "3.10.8"
  }
 },
 "nbformat": 4,
 "nbformat_minor": 5
}
